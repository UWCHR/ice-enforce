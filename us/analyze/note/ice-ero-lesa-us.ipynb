{
 "cells": [
  {
   "cell_type": "code",
   "execution_count": 1,
   "metadata": {},
   "outputs": [],
   "source": [
    "import pandas as pd\n",
    "import numpy as np"
   ]
  },
  {
   "cell_type": "code",
   "execution_count": 2,
   "metadata": {},
   "outputs": [],
   "source": [
    "def mem_usage(pandas_obj):\n",
    "    if isinstance(pandas_obj, pd.DataFrame):\n",
    "        usage_b = pandas_obj.memory_usage(deep=True).sum()\n",
    "    else:  # we assume if not a df it's a series\n",
    "        usage_b = pandas_obj.memory_usage(deep=True)\n",
    "    usage_mb = usage_b / 1024 ** 2  # convert bytes to megabytes\n",
    "    return \"{:03.2f} MB\".format(usage_mb)"
   ]
  },
  {
   "cell_type": "code",
   "execution_count": 3,
   "metadata": {},
   "outputs": [],
   "source": [
    "csv_opts = {'sep': '|',\n",
    "           'quotechar': '\"',\n",
    "           'compression': 'gzip',\n",
    "           'encoding': 'utf-8',\n",
    "           'header': 5}"
   ]
  },
  {
   "cell_type": "code",
   "execution_count": 4,
   "metadata": {},
   "outputs": [],
   "source": [
    "arrest_dtypes = {'Area of Responsibility': 'category',\n",
    " 'Apprehension Date': 'str',\n",
    " 'Apprehension Method': 'category',\n",
    " 'Apprehension Landmark': 'category',\n",
    " 'Operation': 'category',\n",
    " 'Processing Disposition': 'category',\n",
    " 'Birth Date': 'category',\n",
    " 'Citizenship': 'category',\n",
    " 'Gender': 'category'}\n",
    "\n",
    "encounter_dtypes = {'Event Area of Responsibility': 'category',\n",
    " 'Event Date': 'str',\n",
    " 'Landmark': 'category',\n",
    " 'Operation': 'category',\n",
    " 'Processing Disposition': 'category',\n",
    " 'Birth Date': 'category',\n",
    " 'Citizenship': 'category',\n",
    " 'Gender': 'category'}\n",
    "\n",
    "removal_dtypes = {'Area of Responsibility': 'category',\n",
    " 'Apprehension Date': 'str',\n",
    " 'Processing Disposition Code': 'category',\n",
    " 'Birth Date': 'category',\n",
    " 'Citizenship': 'category',\n",
    " 'Gender': 'category',\n",
    " 'RC Threat Level': 'category',\n",
    " 'Final Charge Section': 'category',\n",
    " 'Departed Date': 'str',\n",
    " 'Removal Date': 'str'}"
   ]
  },
  {
   "cell_type": "code",
   "execution_count": 5,
   "metadata": {},
   "outputs": [],
   "source": [
    "arrests16 = pd.read_csv('../input/EROArrests_FY2016.csv.gz', \n",
    "                        **csv_opts,\n",
    "                        dtype=arrest_dtypes,\n",
    "                        parse_dates=['Apprehension Date'])\n",
    "arrests17 = pd.read_csv('../input/EROArrests_FY2017.csv.gz', \n",
    "                        **csv_opts,\n",
    "                        dtype=arrest_dtypes, \n",
    "                        parse_dates=['Apprehension Date'])\n",
    "arrests18 = pd.read_csv('../input/EROArrests_FY2018.csv.gz', \n",
    "                        **csv_opts,\n",
    "                        dtype=arrest_dtypes, \n",
    "                        parse_dates=['Apprehension Date'])\n",
    "arrests19 = pd.read_csv('../input/EROArrests_FY2019.csv.gz', \n",
    "                        **csv_opts,\n",
    "                        dtype=arrest_dtypes, \n",
    "                        parse_dates=['Apprehension Date'])\n",
    "encounters16 = pd.read_csv('../input/EROEncounters_FY2016.csv.gz',\n",
    "                           **csv_opts,\n",
    "                           dtype=encounter_dtypes,\n",
    "                           parse_dates=['Event Date'])\n",
    "encounters17 = pd.read_csv('../input/EROEncounters_FY2017.csv.gz',\n",
    "                           **csv_opts,\n",
    "                           dtype=encounter_dtypes,\n",
    "                           parse_dates=['Event Date'])\n",
    "encounters18 = pd.read_csv('../input/EROEncounters_FY2018.csv.gz',\n",
    "                           **csv_opts,\n",
    "                           dtype=encounter_dtypes,\n",
    "                           parse_dates=['Event Date'])\n",
    "encounters19 = pd.read_csv('../input/EROEncounters_FY2019.csv.gz',\n",
    "                           **csv_opts,\n",
    "                           dtype=encounter_dtypes,\n",
    "                           parse_dates=['Event Date'])\n",
    "removals16 = pd.read_csv('../input/ICERemovals_FY2016.csv.gz',\n",
    "                         **csv_opts,\n",
    "                        dtype=removal_dtypes,\n",
    "                        parse_dates=['Departed Date', 'Removal Date'])\n",
    "removals17 = pd.read_csv('../input/ICERemovals_FY2017.csv.gz',\n",
    "                         **csv_opts,\n",
    "                        dtype=removal_dtypes,\n",
    "                        parse_dates=['Departed Date', 'Removal Date'])\n",
    "removals18 = pd.read_csv('../input/ICERemovals_FY2018.csv.gz',\n",
    "                         **csv_opts,\n",
    "                        dtype=removal_dtypes,\n",
    "                        parse_dates=['Departed Date', 'Removal Date'])\n",
    "removals19 = pd.read_csv('../input/ICERemovals_FY2019.csv.gz',\n",
    "                         **csv_opts,\n",
    "                        dtype=removal_dtypes,\n",
    "                        parse_dates=['Departed Date', 'Removal Date'])"
   ]
  },
  {
   "cell_type": "code",
   "execution_count": 6,
   "metadata": {},
   "outputs": [],
   "source": [
    "arrests = pd.concat([arrests16, arrests17, arrests18, arrests19])\n",
    "encounters = pd.concat([encounters16, encounters17, encounters18, encounters19])\n",
    "removals = pd.concat([removals16, removals17, removals18, removals19])"
   ]
  },
  {
   "cell_type": "code",
   "execution_count": 7,
   "metadata": {},
   "outputs": [],
   "source": [
    "# Convert 'object' columns to categories, where efficient.\n",
    "# Implementation via https://www.dataquest.io/blog/pandas-big-data/\n",
    "dfs_to_convert = [arrests, encounters, removals]\n",
    "for df in dfs_to_convert:\n",
    "    df_obj = df.select_dtypes(include=['object']).copy()\n",
    "    converted_obj = pd.DataFrame()\n",
    "\n",
    "    for col in df_obj.columns:\n",
    "        num_unique_values = len(df_obj[col].unique())\n",
    "        num_total_values = len(df_obj[col])\n",
    "        if num_unique_values / num_total_values < 0.5:\n",
    "            converted_obj.loc[:, col] = df_obj[col].astype('category')\n",
    "        else:\n",
    "            converted_obj.loc[:, col] = df_obj[col]\n",
    "\n",
    "    df[converted_obj.columns] = converted_obj\n",
    "    del df_obj, converted_obj"
   ]
  },
  {
   "cell_type": "code",
   "execution_count": 8,
   "metadata": {},
   "outputs": [
    {
     "name": "stdout",
     "output_type": "stream",
     "text": [
      "<class 'pandas.core.frame.DataFrame'>\n",
      "Int64Index: 544059 entries, 0 to 131903\n",
      "Data columns (total 9 columns):\n",
      "Area of Responsibility    540251 non-null category\n",
      "Apprehension Date         544059 non-null datetime64[ns]\n",
      "Apprehension Method       544059 non-null category\n",
      "Apprehension Landmark     529216 non-null category\n",
      "Operation                 117368 non-null category\n",
      "Processing Disposition    543865 non-null category\n",
      "Birth Date                544059 non-null category\n",
      "Citizenship               544059 non-null category\n",
      "Gender                    544059 non-null category\n",
      "dtypes: category(8), datetime64[ns](1)\n",
      "memory usage: 13.9 MB\n"
     ]
    }
   ],
   "source": [
    "arrests.info()"
   ]
  },
  {
   "cell_type": "code",
   "execution_count": 9,
   "metadata": {},
   "outputs": [
    {
     "name": "stdout",
     "output_type": "stream",
     "text": [
      "<class 'pandas.core.frame.DataFrame'>\n",
      "Int64Index: 1689378 entries, 0 to 396383\n",
      "Data columns (total 8 columns):\n",
      "Event Area of Responsibility    1608957 non-null category\n",
      "Event Date                      1689378 non-null datetime64[ns]\n",
      "Landmark                        1029394 non-null category\n",
      "Operation                       298737 non-null category\n",
      "Processing Disposition          1686035 non-null category\n",
      "Birth Date                      1689378 non-null category\n",
      "Citizenship                     1689378 non-null category\n",
      "Gender                          1689360 non-null category\n",
      "dtypes: category(7), datetime64[ns](1)\n",
      "memory usage: 40.7 MB\n"
     ]
    }
   ],
   "source": [
    "encounters.info()"
   ]
  },
  {
   "cell_type": "code",
   "execution_count": 10,
   "metadata": {},
   "outputs": [
    {
     "name": "stdout",
     "output_type": "stream",
     "text": [
      "<class 'pandas.core.frame.DataFrame'>\n",
      "Int64Index: 963972 entries, 0 to 241512\n",
      "Data columns (total 10 columns):\n",
      "Area of Responsibility         963972 non-null category\n",
      "Apprehension Date              949737 non-null category\n",
      "Processing Disposition Code    958257 non-null category\n",
      "Birth Date                     963972 non-null category\n",
      "Citizenship                    963972 non-null category\n",
      "Gender                         963972 non-null category\n",
      "RC Threat Level                542478 non-null category\n",
      "Final Charge Section           962328 non-null category\n",
      "Departed Date                  963972 non-null datetime64[ns]\n",
      "Removal Date                   963972 non-null datetime64[ns]\n",
      "dtypes: category(8), datetime64[ns](2)\n",
      "memory usage: 31.7 MB\n"
     ]
    }
   ],
   "source": [
    "removals.info()"
   ]
  },
  {
   "cell_type": "code",
   "execution_count": 11,
   "metadata": {},
   "outputs": [
    {
     "name": "stdout",
     "output_type": "stream",
     "text": [
      "110104\n",
      "143470\n",
      "158581\n",
      "131904\n",
      "368645\n",
      "439903\n",
      "484446\n",
      "396384\n",
      "240255\n",
      "226119\n",
      "256085\n",
      "241513\n"
     ]
    }
   ],
   "source": [
    "individual_dfs = [arrests16,\n",
    "                 arrests17,\n",
    "                 arrests18,\n",
    "                 arrests19,\n",
    "                 encounters16,\n",
    "                 encounters17,\n",
    "                 encounters18,\n",
    "                 encounters19,\n",
    "                 removals16,\n",
    "                 removals17,\n",
    "                 removals18,\n",
    "                 removals19]\n",
    "for df in individual_dfs:\n",
    "    print(len(df))\n",
    "    del df"
   ]
  },
  {
   "cell_type": "code",
   "execution_count": 12,
   "metadata": {},
   "outputs": [],
   "source": [
    "del arrests16, arrests17, arrests18, arrests19, encounters16, encounters17, encounters18, encounters19, removals16, removals17, removals18, removals19"
   ]
  },
  {
   "cell_type": "code",
   "execution_count": 13,
   "metadata": {},
   "outputs": [],
   "source": [
    "redacted = ['Birth Date']\n",
    "arrests = arrests.drop(redacted, axis=1)\n",
    "arrests.columns = arrests.columns.str.lower()\n",
    "arrests.columns = arrests.columns.str.replace(' ', '_')"
   ]
  },
  {
   "cell_type": "code",
   "execution_count": 14,
   "metadata": {},
   "outputs": [],
   "source": [
    "redacted = ['Birth Date']\n",
    "encounters = encounters.drop(redacted, axis=1)\n",
    "encounters.columns = encounters.columns.str.lower()\n",
    "encounters.columns = encounters.columns.str.replace(' ', '_')"
   ]
  },
  {
   "cell_type": "code",
   "execution_count": 15,
   "metadata": {},
   "outputs": [],
   "source": [
    "redacted = ['Birth Date']\n",
    "removals = removals.drop(redacted, axis=1)\n",
    "removals.columns = removals.columns.str.lower()\n",
    "removals.columns = removals.columns.str.replace(' ', '_')"
   ]
  },
  {
   "cell_type": "code",
   "execution_count": 16,
   "metadata": {},
   "outputs": [],
   "source": [
    "arrests['id'] = range(len(arrests))\n",
    "removals['id'] = range(len(removals))\n",
    "encounters['id'] = range(len(encounters))"
   ]
  },
  {
   "cell_type": "code",
   "execution_count": 17,
   "metadata": {},
   "outputs": [],
   "source": [
    "arrests = arrests.rename({'area_of_responsibility': 'aor'}, axis=1)\n",
    "encounters = encounters.rename({'event_area_of_responsibility': 'aor'}, axis=1)\n",
    "removals = removals.rename({'area_of_responsibility': 'aor'}, axis=1)"
   ]
  },
  {
   "cell_type": "code",
   "execution_count": 18,
   "metadata": {},
   "outputs": [],
   "source": [
    "removals.aor = removals.aor.str.replace('Area of Responsibility', '')\n",
    "removals.aor = removals.aor.astype('category')\n",
    "arrests.aor = arrests.aor.str.replace('Area of Responsibility', '')\n",
    "arrests.aor = arrests.aor.astype('category')\n",
    "encounters.aor = encounters.aor.str.replace('Area of Responsibility', '')\n",
    "encounters.aor = encounters.aor.astype('category')"
   ]
  },
  {
   "cell_type": "code",
   "execution_count": 19,
   "metadata": {},
   "outputs": [
    {
     "name": "stdout",
     "output_type": "stream",
     "text": [
      "<class 'pandas.core.frame.DataFrame'>\n",
      "Int64Index: 544059 entries, 0 to 131903\n",
      "Data columns (total 9 columns):\n",
      "aor                       540251 non-null category\n",
      "apprehension_date         544059 non-null datetime64[ns]\n",
      "apprehension_method       544059 non-null category\n",
      "apprehension_landmark     529216 non-null category\n",
      "operation                 117368 non-null category\n",
      "processing_disposition    543865 non-null category\n",
      "citizenship               544059 non-null category\n",
      "gender                    544059 non-null category\n",
      "id                        544059 non-null int64\n",
      "dtypes: category(7), datetime64[ns](1), int64(1)\n",
      "memory usage: 17.5 MB\n"
     ]
    }
   ],
   "source": [
    "arrests.info()"
   ]
  },
  {
   "cell_type": "code",
   "execution_count": 20,
   "metadata": {},
   "outputs": [
    {
     "data": {
      "text/plain": [
       "apprehension_date  aor            \n",
       "2015-10-01         Atlanta             8866\n",
       "                   Baltimore           1239\n",
       "                   Boston              1858\n",
       "                   Buffalo             1173\n",
       "                   Chicago             7055\n",
       "                   Dallas              9634\n",
       "                   Denver              2284\n",
       "                   Detroit             2241\n",
       "                   El Paso             1611\n",
       "                   HQ                    12\n",
       "                   Houston            12896\n",
       "                   Los Angeles         7651\n",
       "                   Miami               3524\n",
       "                   New Orleans         5174\n",
       "                   New York City       1847\n",
       "                   Newark              2247\n",
       "                   Philadelphia        3672\n",
       "                   Phoenix             5370\n",
       "                   Salt Lake City      4638\n",
       "                   San Antonio         8425\n",
       "                   San Diego           3683\n",
       "                   San Francisco       6651\n",
       "                   Seattle             2698\n",
       "                   St. Paul            2500\n",
       "                   Washington          2883\n",
       "2016-10-01         Atlanta            13551\n",
       "                   Baltimore           1666\n",
       "                   Boston              2834\n",
       "                   Buffalo             1494\n",
       "                   Chicago             8604\n",
       "                                      ...  \n",
       "2017-10-01         San Diego           6000\n",
       "                   San Francisco       6210\n",
       "                   Seattle             3067\n",
       "                   St. Paul            4658\n",
       "                   Washington          4359\n",
       "2018-10-01         Atlanta            12268\n",
       "                   Baltimore           1330\n",
       "                   Boston              2266\n",
       "                   Buffalo             1206\n",
       "                   Chicago             7769\n",
       "                   Dallas             15571\n",
       "                   Denver              2215\n",
       "                   Detroit             3094\n",
       "                   El Paso             2103\n",
       "                   HQ                     4\n",
       "                   Houston            10761\n",
       "                   Los Angeles         6144\n",
       "                   Miami               8695\n",
       "                   New Orleans         9075\n",
       "                   New York City       2281\n",
       "                   Newark              2654\n",
       "                   Philadelphia        3752\n",
       "                   Phoenix             5420\n",
       "                   Salt Lake City      5014\n",
       "                   San Antonio        10968\n",
       "                   San Diego           2107\n",
       "                   San Francisco       4724\n",
       "                   Seattle             2328\n",
       "                   St. Paul            4005\n",
       "                   Washington          3734\n",
       "Name: id, Length: 100, dtype: int64"
      ]
     },
     "execution_count": 20,
     "metadata": {},
     "output_type": "execute_result"
    }
   ],
   "source": [
    "grouper = [pd.Grouper(freq='AS-OCT'), 'aor']\n",
    "arrests.set_index('apprehension_date').groupby(grouper)['id'].count()"
   ]
  }
 ],
 "metadata": {
  "kernelspec": {
   "display_name": "Python 3",
   "language": "python",
   "name": "python3"
  },
  "language_info": {
   "codemirror_mode": {
    "name": "ipython",
    "version": 3
   },
   "file_extension": ".py",
   "mimetype": "text/x-python",
   "name": "python",
   "nbconvert_exporter": "python",
   "pygments_lexer": "ipython3",
   "version": "3.7.1"
  }
 },
 "nbformat": 4,
 "nbformat_minor": 2
}
