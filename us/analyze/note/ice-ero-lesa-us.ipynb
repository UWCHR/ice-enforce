{
 "cells": [
  {
   "cell_type": "code",
   "execution_count": 1,
   "metadata": {},
   "outputs": [],
   "source": [
    "import pandas as pd\n",
    "import numpy as np"
   ]
  },
  {
   "cell_type": "code",
   "execution_count": 2,
   "metadata": {},
   "outputs": [],
   "source": [
    "def mem_usage(pandas_obj):\n",
    "    if isinstance(pandas_obj, pd.DataFrame):\n",
    "        usage_b = pandas_obj.memory_usage(deep=True).sum()\n",
    "    else:  # we assume if not a df it's a series\n",
    "        usage_b = pandas_obj.memory_usage(deep=True)\n",
    "    usage_mb = usage_b / 1024 ** 2  # convert bytes to megabytes\n",
    "    return \"{:03.2f} MB\".format(usage_mb)"
   ]
  },
  {
   "cell_type": "code",
   "execution_count": 3,
   "metadata": {},
   "outputs": [],
   "source": [
    "csv_opts = {'sep': '|',\n",
    "           'quotechar': '\"',\n",
    "           'compression': 'gzip',\n",
    "           'encoding': 'utf-8',\n",
    "           'header': 5}"
   ]
  },
  {
   "cell_type": "code",
   "execution_count": 4,
   "metadata": {},
   "outputs": [],
   "source": [
    "arrest_dtypes = {'Area of Responsibility': 'category',\n",
    " 'Apprehension Date': 'str',\n",
    " 'Apprehension Method': 'category',\n",
    " 'Apprehension Landmark': 'category',\n",
    " 'Operation': 'category',\n",
    " 'Processing Disposition': 'category',\n",
    " 'Birth Date': 'category',\n",
    " 'Citizenship': 'category',\n",
    " 'Gender': 'category'}\n",
    "\n",
    "encounter_dtypes = {'Event Area of Responsibility': 'category',\n",
    " 'Event Date': 'str',\n",
    " 'Landmark': 'category',\n",
    " 'Operation': 'category',\n",
    " 'Processing Disposition': 'category',\n",
    " 'Birth Date': 'category',\n",
    " 'Citizenship': 'category',\n",
    " 'Gender': 'category'}\n",
    "\n",
    "removal_dtypes = {'Area of Responsibility': 'category',\n",
    " 'Apprehension Date': 'str',\n",
    " 'Processing Disposition Code': 'category',\n",
    " 'Birth Date': 'category',\n",
    " 'Citizenship': 'category',\n",
    " 'Gender': 'category',\n",
    " 'RC Threat Level': 'category',\n",
    " 'Final Charge Section': 'category',\n",
    " 'Departed Date': 'str',\n",
    " 'Removal Date': 'str'}"
   ]
  },
  {
   "cell_type": "code",
   "execution_count": null,
   "metadata": {},
   "outputs": [],
   "source": [
    "arrests16 = pd.read_csv('../input/EROArrests_FY2016.csv.gz', \n",
    "                        **csv_opts,\n",
    "                        dtype=arrest_dtypes,\n",
    "                        parse_dates=['Apprehension Date'])\n",
    "arrests17 = pd.read_csv('../input/EROArrests_FY2017.csv.gz', \n",
    "                        **csv_opts,\n",
    "                        dtype=arrest_dtypes, \n",
    "                        parse_dates=['Apprehension Date'])\n",
    "arrests18 = pd.read_csv('../input/EROArrests_FY2018.csv.gz', \n",
    "                        **csv_opts,\n",
    "                        dtype=arrest_dtypes, \n",
    "                        parse_dates=['Apprehension Date'])\n",
    "arrests19 = pd.read_csv('../input/EROArrests_FY2019.csv.gz', \n",
    "                        **csv_opts,\n",
    "                        dtype=arrest_dtypes, \n",
    "                        parse_dates=['Apprehension Date'])\n",
    "encounters16 = pd.read_csv('../input/EROEncounters_FY2016.csv.gz',\n",
    "                           **csv_opts,\n",
    "                           dtype=encounter_dtypes,\n",
    "                           parse_dates=['Event Date'])\n",
    "encounters17 = pd.read_csv('../input/EROEncounters_FY2017.csv.gz',\n",
    "                           **csv_opts,\n",
    "                           dtype=encounter_dtypes,\n",
    "                           parse_dates=['Event Date'])\n",
    "encounters18 = pd.read_csv('../input/EROEncounters_FY2018.csv.gz',\n",
    "                           **csv_opts,\n",
    "                           dtype=encounter_dtypes,\n",
    "                           parse_dates=['Event Date'])\n",
    "encounters19 = pd.read_csv('../input/EROEncounters_FY2019.csv.gz',\n",
    "                           **csv_opts,\n",
    "                           dtype=encounter_dtypes,\n",
    "                           parse_dates=['Event Date'])\n",
    "removals16 = pd.read_csv('../input/ICERemovals_FY2016.csv.gz',\n",
    "                         **csv_opts,\n",
    "                        dtype=removal_dtypes,\n",
    "                        parse_dates=['Departed Date', 'Removal Date'])\n",
    "removals17 = pd.read_csv('../input/ICERemovals_FY2017.csv.gz',\n",
    "                         **csv_opts,\n",
    "                        dtype=removal_dtypes,\n",
    "                        parse_dates=['Departed Date', 'Removal Date'])\n",
    "removals18 = pd.read_csv('../input/ICERemovals_FY2018.csv.gz',\n",
    "                         **csv_opts,\n",
    "                        dtype=removal_dtypes,\n",
    "                        parse_dates=['Departed Date', 'Removal Date'])\n",
    "removals19 = pd.read_csv('../input/ICERemovals_FY2019.csv.gz',\n",
    "                         **csv_opts,\n",
    "                        dtype=removal_dtypes,\n",
    "                        parse_dates=['Departed Date', 'Removal Date'])"
   ]
  },
  {
   "cell_type": "code",
   "execution_count": null,
   "metadata": {},
   "outputs": [],
   "source": [
    "arrests = pd.concat([arrests16, arrests17, arrests18, arrests19])\n",
    "encounters = pd.concat([encounters16, encounters17, encounters18, encounters19])\n",
    "removals = pd.concat([removals16, removals17, removals18, removals19])"
   ]
  },
  {
   "cell_type": "code",
   "execution_count": null,
   "metadata": {},
   "outputs": [],
   "source": [
    "# Convert 'object' columns to categories, where efficient.\n",
    "# Implementation via https://www.dataquest.io/blog/pandas-big-data/\n",
    "dfs_to_convert = [arrests, encounters, removals]\n",
    "for df in dfs_to_convert:\n",
    "    df_obj = df.select_dtypes(include=['object']).copy()\n",
    "    converted_obj = pd.DataFrame()\n",
    "\n",
    "    for col in df_obj.columns:\n",
    "        num_unique_values = len(df_obj[col].unique())\n",
    "        num_total_values = len(df_obj[col])\n",
    "        if num_unique_values / num_total_values < 0.5:\n",
    "            converted_obj.loc[:, col] = df_obj[col].astype('category')\n",
    "        else:\n",
    "            converted_obj.loc[:, col] = df_obj[col]\n",
    "\n",
    "    df[converted_obj.columns] = converted_obj\n",
    "    del df_obj, converted_obj"
   ]
  },
  {
   "cell_type": "code",
   "execution_count": null,
   "metadata": {},
   "outputs": [],
   "source": [
    "arrests.info()"
   ]
  },
  {
   "cell_type": "code",
   "execution_count": null,
   "metadata": {},
   "outputs": [],
   "source": [
    "encounters.info()"
   ]
  },
  {
   "cell_type": "code",
   "execution_count": null,
   "metadata": {},
   "outputs": [],
   "source": [
    "removals.info()"
   ]
  },
  {
   "cell_type": "code",
   "execution_count": null,
   "metadata": {},
   "outputs": [],
   "source": [
    "individual_dfs = [arrests16,\n",
    "                 arrests17,\n",
    "                 arrests18,\n",
    "                 arrests19,\n",
    "                 encounters16,\n",
    "                 encounters17,\n",
    "                 encounters18,\n",
    "                 encounters19,\n",
    "                 removals16,\n",
    "                 removals17,\n",
    "                 removals18,\n",
    "                 removals19]\n",
    "for df in individual_dfs:\n",
    "    print(len(df))\n",
    "    del df"
   ]
  },
  {
   "cell_type": "code",
   "execution_count": null,
   "metadata": {},
   "outputs": [],
   "source": [
    "del arrests16, arrests17, arrests18, arrests19, encounters16, encounters17, encounters18, encounters19, removals16, removals17, removals18, removals19"
   ]
  },
  {
   "cell_type": "code",
   "execution_count": null,
   "metadata": {},
   "outputs": [],
   "source": [
    "redacted = ['Birth Date']\n",
    "arrests = arrests.drop(redacted, axis=1)\n",
    "arrests.columns = arrests.columns.str.lower()\n",
    "arrests.columns = arrests.columns.str.replace(' ', '_')"
   ]
  },
  {
   "cell_type": "code",
   "execution_count": null,
   "metadata": {},
   "outputs": [],
   "source": [
    "redacted = ['Birth Date']\n",
    "encounters = encounters.drop(redacted, axis=1)\n",
    "encounters.columns = encounters.columns.str.lower()\n",
    "encounters.columns = encounters.columns.str.replace(' ', '_')"
   ]
  },
  {
   "cell_type": "code",
   "execution_count": null,
   "metadata": {},
   "outputs": [],
   "source": [
    "redacted = ['Birth Date']\n",
    "removals = removals.drop(redacted, axis=1)\n",
    "removals.columns = removals.columns.str.lower()\n",
    "removals.columns = removals.columns.str.replace(' ', '_')"
   ]
  },
  {
   "cell_type": "code",
   "execution_count": null,
   "metadata": {},
   "outputs": [],
   "source": [
    "arrests['id'] = range(len(arrests))\n",
    "removals['id'] = range(len(removals))\n",
    "encounters['id'] = range(len(encounters))"
   ]
  },
  {
   "cell_type": "code",
   "execution_count": null,
   "metadata": {},
   "outputs": [],
   "source": [
    "arrests = arrests.rename({'area_of_responsibility': 'aor'}, axis=1)\n",
    "encounters = encounters.rename({'event_area_of_responsibility': 'aor'}, axis=1)\n",
    "removals = removals.rename({'area_of_responsibility': 'aor'}, axis=1)"
   ]
  },
  {
   "cell_type": "code",
   "execution_count": null,
   "metadata": {},
   "outputs": [],
   "source": [
    "removals.aor = removals.aor.str.replace('Area of Responsibility', '')\n",
    "removals.aor = removals.aor.astype('category')\n",
    "arrests.aor = arrests.aor.str.replace('Area of Responsibility', '')\n",
    "arrests.aor = arrests.aor.astype('category')\n",
    "encounters.aor = encounters.aor.str.replace('Area of Responsibility', '')\n",
    "encounters.aor = encounters.aor.astype('category')"
   ]
  },
  {
   "cell_type": "code",
   "execution_count": null,
   "metadata": {},
   "outputs": [],
   "source": [
    "arrests.info()"
   ]
  },
  {
   "cell_type": "code",
   "execution_count": null,
   "metadata": {},
   "outputs": [],
   "source": [
    "grouper = [pd.Grouper(freq='AS-OCT'), 'aor']\n",
    "arrests.set_index('apprehension_date').groupby(grouper)['id'].count()"
   ]
  }
 ],
 "metadata": {
  "kernelspec": {
   "display_name": "Python 3",
   "language": "python",
   "name": "python3"
  },
  "language_info": {
   "codemirror_mode": {
    "name": "ipython",
    "version": 3
   },
   "file_extension": ".py",
   "mimetype": "text/x-python",
   "name": "python",
   "nbconvert_exporter": "python",
   "pygments_lexer": "ipython3",
   "version": "3.7.1"
  }
 },
 "nbformat": 4,
 "nbformat_minor": 2
}
