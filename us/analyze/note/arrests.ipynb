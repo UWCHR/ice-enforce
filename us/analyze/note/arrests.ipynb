{
 "cells": [
  {
   "cell_type": "code",
   "execution_count": 54,
   "metadata": {},
   "outputs": [],
   "source": [
    "import pandas as pd\n",
    "import numpy as np\n",
    "import yaml"
   ]
  },
  {
   "cell_type": "code",
   "execution_count": 55,
   "metadata": {},
   "outputs": [],
   "source": [
    "csv_opts = {'sep': '|',\n",
    "           'quotechar': '\"',\n",
    "           'compression': 'gzip',\n",
    "           'encoding': 'utf-8'}"
   ]
  },
  {
   "cell_type": "code",
   "execution_count": 56,
   "metadata": {},
   "outputs": [],
   "source": [
    "with open('../hand/arrest_dtypes.yaml', 'r') as yamlfile:\n",
    "        arrest_dtypes = yaml.load(yamlfile)\n",
    "with open('../hand/encounter_dtypes.yaml', 'r') as yamlfile:\n",
    "        encounter_dtypes = yaml.load(yamlfile)\n",
    "with open('../hand/removal_dtypes.yaml', 'r') as yamlfile:\n",
    "        removal_dtypes = yaml.load(yamlfile)"
   ]
  },
  {
   "cell_type": "code",
   "execution_count": 61,
   "metadata": {},
   "outputs": [],
   "source": [
    "arrests = pd.read_csv('../input/arrests.csv.gz', **csv_opts, dtype=arrest_dtypes)\n",
    "encounters = pd.read_csv('../input/encounters.csv.gz', **csv_opts, dtype=encounter_dtypes)\n",
    "removals = pd.read_csv('../input/removals.csv.gz', **csv_opts, dtype=removal_dtypes)"
   ]
  },
  {
   "cell_type": "code",
   "execution_count": 64,
   "metadata": {},
   "outputs": [],
   "source": [
    "arrests['apprehension_date'] = pd.to_datetime(arrests['apprehension_date'], format='%m/%d/%Y')\n",
    "encounters['event_date'] = pd.to_datetime(encounters['event_date'], format='%m/%d/%Y')\n",
    "removals['departed_date'] = pd.to_datetime(removals['departed_date'], format='%m/%d/%Y')\n",
    "removals['removal_date'] = pd.to_datetime(removals['removal_date'], format='%m/%d/%Y')"
   ]
  },
  {
   "cell_type": "code",
   "execution_count": 65,
   "metadata": {},
   "outputs": [],
   "source": [
    "redacted = ['birth_date']\n",
    "arrests = arrests.drop(redacted, axis=1)\n",
    "removals = removals.drop(redacted, axis=1)\n",
    "encounters = encounters.drop(redacted, axis=1)"
   ]
  },
  {
   "cell_type": "code",
   "execution_count": 69,
   "metadata": {},
   "outputs": [],
   "source": [
    "arrests['id'] = range(len(arrests))\n",
    "encounters['id'] = range(len(encounters))\n",
    "removals['id'] = range(len(removals))"
   ]
  },
  {
   "cell_type": "code",
   "execution_count": 75,
   "metadata": {},
   "outputs": [],
   "source": [
    "arrests = arrests.rename({'area_of_responsibility': 'aor'}, axis=1)\n",
    "encounters = encounters.rename({'event_area_of_responsibility': 'aor'}, axis=1)\n",
    "removals = removals.rename({'area_of_responsibility': 'aor'}, axis=1)"
   ]
  },
  {
   "cell_type": "code",
   "execution_count": 76,
   "metadata": {},
   "outputs": [],
   "source": [
    "arrests.aor = arrests.aor.str.replace('Area of Responsibility', '')\n",
    "arrests.aor = arrests.aor.astype('category')\n",
    "encounters.aor = encounters.aor.str.replace('Area of Responsibility', '')\n",
    "encounters.aor = encounters.aor.astype('category')\n",
    "removals.aor = removals.aor.str.replace('Area of Responsibility', '')\n",
    "removals.aor = removals.aor.astype('category')"
   ]
  },
  {
   "cell_type": "markdown",
   "metadata": {},
   "source": [
    "Using date range of AIC report, numbers very close, difference either due to cleaning decisions or possibly records \"back-filled\" posterior to date of release to AIC."
   ]
  },
  {
   "cell_type": "code",
   "execution_count": 82,
   "metadata": {},
   "outputs": [
    {
     "name": "stdout",
     "output_type": "stream",
     "text": [
      "381705\n",
      "1199704\n",
      "656077\n",
      "657686\n"
     ]
    }
   ],
   "source": [
    "print(len(arrests.set_index('apprehension_date').loc['2016-1-1':'2018-9-23']))\n",
    "print(len(encounters.set_index('event_date').loc['2016-1-1':'2018-9-23']))\n",
    "print(len(removals.set_index('removal_date').loc['2016-1-1':'2018-9-23']))\n",
    "print(len(removals.set_index('departed_date').loc['2016-1-1':'2018-9-23']))"
   ]
  },
  {
   "cell_type": "code",
   "execution_count": null,
   "metadata": {},
   "outputs": [],
   "source": []
  }
 ],
 "metadata": {
  "kernelspec": {
   "display_name": "Python 3",
   "language": "python",
   "name": "python3"
  },
  "language_info": {
   "codemirror_mode": {
    "name": "ipython",
    "version": 3
   },
   "file_extension": ".py",
   "mimetype": "text/x-python",
   "name": "python",
   "nbconvert_exporter": "python",
   "pygments_lexer": "ipython3",
   "version": "3.7.1"
  }
 },
 "nbformat": 4,
 "nbformat_minor": 2
}
