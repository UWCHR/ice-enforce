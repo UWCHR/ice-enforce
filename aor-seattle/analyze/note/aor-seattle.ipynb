{
 "cells": [
  {
   "cell_type": "code",
   "execution_count": 1,
   "metadata": {},
   "outputs": [],
   "source": [
    "import pandas as pd\n",
    "import numpy as np\n",
    "import matplotlib.pyplot as plt"
   ]
  },
  {
   "cell_type": "code",
   "execution_count": 2,
   "metadata": {},
   "outputs": [],
   "source": [
    "read_csv_opts = {'sep': '|',\n",
    "                 'quotechar': '\"',\n",
    "                 'compression': 'gzip',\n",
    "                 'encoding': 'utf-8',\n",
    "                 'header': 6}"
   ]
  },
  {
   "cell_type": "code",
   "execution_count": 3,
   "metadata": {},
   "outputs": [],
   "source": [
    "arrests = pd.read_csv('../input/arrests.csv.gz', **read_csv_opts)\n",
    "bookins = pd.read_csv('../input/bookins.csv.gz', **read_csv_opts)\n",
    "expedited = pd.read_csv('../input/expedited-removals.csv.gz', **read_csv_opts)\n",
    "other = pd.read_csv('../input/other-removals.csv.gz', **read_csv_opts)"
   ]
  },
  {
   "cell_type": "code",
   "execution_count": 4,
   "metadata": {},
   "outputs": [
    {
     "data": {
      "text/html": [
       "<div>\n",
       "<style scoped>\n",
       "    .dataframe tbody tr th:only-of-type {\n",
       "        vertical-align: middle;\n",
       "    }\n",
       "\n",
       "    .dataframe tbody tr th {\n",
       "        vertical-align: top;\n",
       "    }\n",
       "\n",
       "    .dataframe thead th {\n",
       "        text-align: right;\n",
       "    }\n",
       "</style>\n",
       "<table border=\"1\" class=\"dataframe\">\n",
       "  <thead>\n",
       "    <tr style=\"text-align: right;\">\n",
       "      <th></th>\n",
       "      <th>Arrest Date</th>\n",
       "      <th>Date of Birth</th>\n",
       "      <th>Gender</th>\n",
       "      <th>Country of Citizenship</th>\n",
       "      <th>Event Number</th>\n",
       "      <th>Apprehension Landmark</th>\n",
       "      <th>Arrest Method</th>\n",
       "      <th>Most Serious Conviction</th>\n",
       "    </tr>\n",
       "  </thead>\n",
       "  <tbody>\n",
       "    <tr>\n",
       "      <th>0</th>\n",
       "      <td>1/1/2012</td>\n",
       "      <td>(b)(6),(b)(7)c)</td>\n",
       "      <td>Male</td>\n",
       "      <td>MEXICO</td>\n",
       "      <td>(b)(7)e)</td>\n",
       "      <td>SNOHOMISH COUNTY JAIL</td>\n",
       "      <td>CAP Local Incarceration</td>\n",
       "      <td>NaN</td>\n",
       "    </tr>\n",
       "    <tr>\n",
       "      <th>1</th>\n",
       "      <td>1/1/2012</td>\n",
       "      <td>(b)(6),(b)(7)c)</td>\n",
       "      <td>Male</td>\n",
       "      <td>MEXICO</td>\n",
       "      <td>(b)(7)e)</td>\n",
       "      <td>FRANKLIN CO. JAIL</td>\n",
       "      <td>CAP Local Incarceration</td>\n",
       "      <td>NaN</td>\n",
       "    </tr>\n",
       "    <tr>\n",
       "      <th>2</th>\n",
       "      <td>1/1/2012</td>\n",
       "      <td>(b)(6),(b)(7)c)</td>\n",
       "      <td>Male</td>\n",
       "      <td>MEXICO</td>\n",
       "      <td>(b)(7)e)</td>\n",
       "      <td>BENTON CO. JAIL</td>\n",
       "      <td>CAP Local Incarceration</td>\n",
       "      <td>NaN</td>\n",
       "    </tr>\n",
       "    <tr>\n",
       "      <th>3</th>\n",
       "      <td>1/1/2012</td>\n",
       "      <td>(b)(6),(b)(7)c)</td>\n",
       "      <td>Male</td>\n",
       "      <td>MEXICO</td>\n",
       "      <td>(b)(7)e)</td>\n",
       "      <td>COLUMBIA COUNTY JAIL</td>\n",
       "      <td>CAP Local Incarceration</td>\n",
       "      <td>NaN</td>\n",
       "    </tr>\n",
       "    <tr>\n",
       "      <th>4</th>\n",
       "      <td>1/1/2012</td>\n",
       "      <td>(b)(6),(b)(7)c)</td>\n",
       "      <td>Male</td>\n",
       "      <td>MEXICO</td>\n",
       "      <td>(b)(7)e)</td>\n",
       "      <td>FRANKLIN CO. JAIL</td>\n",
       "      <td>CAP Local Incarceration</td>\n",
       "      <td>NaN</td>\n",
       "    </tr>\n",
       "  </tbody>\n",
       "</table>\n",
       "</div>"
      ],
      "text/plain": [
       "  Arrest Date    Date of Birth Gender Country of Citizenship Event Number  \\\n",
       "0    1/1/2012  (b)(6),(b)(7)c)   Male                 MEXICO     (b)(7)e)   \n",
       "1    1/1/2012  (b)(6),(b)(7)c)   Male                 MEXICO     (b)(7)e)   \n",
       "2    1/1/2012  (b)(6),(b)(7)c)   Male                 MEXICO     (b)(7)e)   \n",
       "3    1/1/2012  (b)(6),(b)(7)c)   Male                 MEXICO     (b)(7)e)   \n",
       "4    1/1/2012  (b)(6),(b)(7)c)   Male                 MEXICO     (b)(7)e)   \n",
       "\n",
       "   Apprehension Landmark            Arrest Method Most Serious Conviction  \n",
       "0  SNOHOMISH COUNTY JAIL  CAP Local Incarceration                     NaN  \n",
       "1      FRANKLIN CO. JAIL  CAP Local Incarceration                     NaN  \n",
       "2        BENTON CO. JAIL  CAP Local Incarceration                     NaN  \n",
       "3   COLUMBIA COUNTY JAIL  CAP Local Incarceration                     NaN  \n",
       "4      FRANKLIN CO. JAIL  CAP Local Incarceration                     NaN  "
      ]
     },
     "execution_count": 4,
     "metadata": {},
     "output_type": "execute_result"
    }
   ],
   "source": [
    "arrests.head()"
   ]
  },
  {
   "cell_type": "code",
   "execution_count": 5,
   "metadata": {},
   "outputs": [
    {
     "data": {
      "text/html": [
       "<div>\n",
       "<style scoped>\n",
       "    .dataframe tbody tr th:only-of-type {\n",
       "        vertical-align: middle;\n",
       "    }\n",
       "\n",
       "    .dataframe tbody tr th {\n",
       "        vertical-align: top;\n",
       "    }\n",
       "\n",
       "    .dataframe thead th {\n",
       "        text-align: right;\n",
       "    }\n",
       "</style>\n",
       "<table border=\"1\" class=\"dataframe\">\n",
       "  <thead>\n",
       "    <tr style=\"text-align: right;\">\n",
       "      <th></th>\n",
       "      <th>Book In Date</th>\n",
       "      <th>Date of Birth</th>\n",
       "      <th>Gender</th>\n",
       "      <th>Country of Citizenship</th>\n",
       "      <th>Detention Facility</th>\n",
       "      <th>Apprehension Method</th>\n",
       "      <th>Most Serious Conviction</th>\n",
       "    </tr>\n",
       "  </thead>\n",
       "  <tbody>\n",
       "    <tr>\n",
       "      <th>0</th>\n",
       "      <td>1/1/2012</td>\n",
       "      <td>(b)(6),(b)(7)c)</td>\n",
       "      <td>Male</td>\n",
       "      <td>MEXICO</td>\n",
       "      <td>NORTHWEST DET. CENTER</td>\n",
       "      <td>Other Agency (turned over to INS)</td>\n",
       "      <td>NaN</td>\n",
       "    </tr>\n",
       "    <tr>\n",
       "      <th>1</th>\n",
       "      <td>1/1/2012</td>\n",
       "      <td>(b)(6),(b)(7)c)</td>\n",
       "      <td>Male</td>\n",
       "      <td>MEXICO</td>\n",
       "      <td>NORTHWEST DET. CENTER</td>\n",
       "      <td>Patrol Border</td>\n",
       "      <td>NaN</td>\n",
       "    </tr>\n",
       "    <tr>\n",
       "      <th>2</th>\n",
       "      <td>1/2/2012</td>\n",
       "      <td>(b)(6),(b)(7)c)</td>\n",
       "      <td>Male</td>\n",
       "      <td>HONDURAS</td>\n",
       "      <td>NORTHWEST DET. CENTER</td>\n",
       "      <td>Other Agency (turned over to INS)</td>\n",
       "      <td>NaN</td>\n",
       "    </tr>\n",
       "    <tr>\n",
       "      <th>3</th>\n",
       "      <td>1/2/2012</td>\n",
       "      <td>(b)(6),(b)(7)c)</td>\n",
       "      <td>Male</td>\n",
       "      <td>FRANCE</td>\n",
       "      <td>NORTHWEST DET. CENTER</td>\n",
       "      <td>Inspections</td>\n",
       "      <td>NaN</td>\n",
       "    </tr>\n",
       "    <tr>\n",
       "      <th>4</th>\n",
       "      <td>1/2/2012</td>\n",
       "      <td>(b)(6),(b)(7)c)</td>\n",
       "      <td>Female</td>\n",
       "      <td>SWITZERLAND</td>\n",
       "      <td>NORTHWEST DET. CENTER</td>\n",
       "      <td>Inspections</td>\n",
       "      <td>NaN</td>\n",
       "    </tr>\n",
       "  </tbody>\n",
       "</table>\n",
       "</div>"
      ],
      "text/plain": [
       "  Book In Date    Date of Birth  Gender Country of Citizenship  \\\n",
       "0     1/1/2012  (b)(6),(b)(7)c)    Male                 MEXICO   \n",
       "1     1/1/2012  (b)(6),(b)(7)c)    Male                 MEXICO   \n",
       "2     1/2/2012  (b)(6),(b)(7)c)    Male               HONDURAS   \n",
       "3     1/2/2012  (b)(6),(b)(7)c)    Male                 FRANCE   \n",
       "4     1/2/2012  (b)(6),(b)(7)c)  Female            SWITZERLAND   \n",
       "\n",
       "      Detention Facility                Apprehension Method  \\\n",
       "0  NORTHWEST DET. CENTER  Other Agency (turned over to INS)   \n",
       "1  NORTHWEST DET. CENTER                      Patrol Border   \n",
       "2  NORTHWEST DET. CENTER  Other Agency (turned over to INS)   \n",
       "3  NORTHWEST DET. CENTER                        Inspections   \n",
       "4  NORTHWEST DET. CENTER                        Inspections   \n",
       "\n",
       "  Most Serious Conviction  \n",
       "0                     NaN  \n",
       "1                     NaN  \n",
       "2                     NaN  \n",
       "3                     NaN  \n",
       "4                     NaN  "
      ]
     },
     "execution_count": 5,
     "metadata": {},
     "output_type": "execute_result"
    }
   ],
   "source": [
    "bookins.head()"
   ]
  },
  {
   "cell_type": "code",
   "execution_count": 6,
   "metadata": {},
   "outputs": [
    {
     "data": {
      "text/html": [
       "<div>\n",
       "<style scoped>\n",
       "    .dataframe tbody tr th:only-of-type {\n",
       "        vertical-align: middle;\n",
       "    }\n",
       "\n",
       "    .dataframe tbody tr th {\n",
       "        vertical-align: top;\n",
       "    }\n",
       "\n",
       "    .dataframe thead th {\n",
       "        text-align: right;\n",
       "    }\n",
       "</style>\n",
       "<table border=\"1\" class=\"dataframe\">\n",
       "  <thead>\n",
       "    <tr style=\"text-align: right;\">\n",
       "      <th></th>\n",
       "      <th>Departed Date</th>\n",
       "      <th>Date of Birth</th>\n",
       "      <th>Gender</th>\n",
       "      <th>Country of Citizenship</th>\n",
       "      <th>Event Number</th>\n",
       "      <th>Most Serious Conviction</th>\n",
       "      <th>Case Category</th>\n",
       "    </tr>\n",
       "  </thead>\n",
       "  <tbody>\n",
       "    <tr>\n",
       "      <th>0</th>\n",
       "      <td>1/3/2012</td>\n",
       "      <td>(b)(6),(b)(7)c)</td>\n",
       "      <td>Male</td>\n",
       "      <td>FRANCE</td>\n",
       "      <td>(b)(7)e)</td>\n",
       "      <td>NaN</td>\n",
       "      <td>[8F] Expedited Removal</td>\n",
       "    </tr>\n",
       "    <tr>\n",
       "      <th>1</th>\n",
       "      <td>1/5/2012</td>\n",
       "      <td>(b)(6),(b)(7)c)</td>\n",
       "      <td>Female</td>\n",
       "      <td>EL SALVADOR</td>\n",
       "      <td>(b)(7)e)</td>\n",
       "      <td>NaN</td>\n",
       "      <td>[8G] Expedited Removal - Credible Fear Referral</td>\n",
       "    </tr>\n",
       "    <tr>\n",
       "      <th>2</th>\n",
       "      <td>1/6/2012</td>\n",
       "      <td>(b)(6),(b)(7)c)</td>\n",
       "      <td>Female</td>\n",
       "      <td>BELIZE</td>\n",
       "      <td>(b)(7)e)</td>\n",
       "      <td>NaN</td>\n",
       "      <td>[8F] Expedited Removal</td>\n",
       "    </tr>\n",
       "    <tr>\n",
       "      <th>3</th>\n",
       "      <td>1/11/2012</td>\n",
       "      <td>(b)(6),(b)(7)c)</td>\n",
       "      <td>Female</td>\n",
       "      <td>EL SALVADOR</td>\n",
       "      <td>(b)(7)e)</td>\n",
       "      <td>NaN</td>\n",
       "      <td>[8G] Expedited Removal - Credible Fear Referral</td>\n",
       "    </tr>\n",
       "    <tr>\n",
       "      <th>4</th>\n",
       "      <td>1/11/2012</td>\n",
       "      <td>(b)(6),(b)(7)c)</td>\n",
       "      <td>Female</td>\n",
       "      <td>EL SALVADOR</td>\n",
       "      <td>(b)(7)e)</td>\n",
       "      <td>NaN</td>\n",
       "      <td>[8F] Expedited Removal</td>\n",
       "    </tr>\n",
       "  </tbody>\n",
       "</table>\n",
       "</div>"
      ],
      "text/plain": [
       "  Departed Date    Date of Birth  Gender Country of Citizenship Event Number  \\\n",
       "0      1/3/2012  (b)(6),(b)(7)c)    Male                 FRANCE     (b)(7)e)   \n",
       "1      1/5/2012  (b)(6),(b)(7)c)  Female            EL SALVADOR     (b)(7)e)   \n",
       "2      1/6/2012  (b)(6),(b)(7)c)  Female                 BELIZE     (b)(7)e)   \n",
       "3     1/11/2012  (b)(6),(b)(7)c)  Female            EL SALVADOR     (b)(7)e)   \n",
       "4     1/11/2012  (b)(6),(b)(7)c)  Female            EL SALVADOR     (b)(7)e)   \n",
       "\n",
       "  Most Serious Conviction                                    Case Category  \n",
       "0                     NaN                           [8F] Expedited Removal  \n",
       "1                     NaN  [8G] Expedited Removal - Credible Fear Referral  \n",
       "2                     NaN                           [8F] Expedited Removal  \n",
       "3                     NaN  [8G] Expedited Removal - Credible Fear Referral  \n",
       "4                     NaN                           [8F] Expedited Removal  "
      ]
     },
     "execution_count": 6,
     "metadata": {},
     "output_type": "execute_result"
    }
   ],
   "source": [
    "expedited.head()"
   ]
  },
  {
   "cell_type": "code",
   "execution_count": 7,
   "metadata": {},
   "outputs": [
    {
     "data": {
      "text/html": [
       "<div>\n",
       "<style scoped>\n",
       "    .dataframe tbody tr th:only-of-type {\n",
       "        vertical-align: middle;\n",
       "    }\n",
       "\n",
       "    .dataframe tbody tr th {\n",
       "        vertical-align: top;\n",
       "    }\n",
       "\n",
       "    .dataframe thead th {\n",
       "        text-align: right;\n",
       "    }\n",
       "</style>\n",
       "<table border=\"1\" class=\"dataframe\">\n",
       "  <thead>\n",
       "    <tr style=\"text-align: right;\">\n",
       "      <th></th>\n",
       "      <th>Departed Date</th>\n",
       "      <th>Date of Birth</th>\n",
       "      <th>Gender</th>\n",
       "      <th>Country of Citizenship</th>\n",
       "      <th>Event Number</th>\n",
       "      <th>Most Serious Conviction</th>\n",
       "      <th>Case Category</th>\n",
       "    </tr>\n",
       "  </thead>\n",
       "  <tbody>\n",
       "    <tr>\n",
       "      <th>0</th>\n",
       "      <td>1/3/2012</td>\n",
       "      <td>(b)(6),(b)(7)c)</td>\n",
       "      <td>Male</td>\n",
       "      <td>MEXICO</td>\n",
       "      <td>(b)(7)e)</td>\n",
       "      <td>NaN</td>\n",
       "      <td>[8C] Excludable / Inadmissible - Administrativ...</td>\n",
       "    </tr>\n",
       "    <tr>\n",
       "      <th>1</th>\n",
       "      <td>1/3/2012</td>\n",
       "      <td>(b)(6),(b)(7)c)</td>\n",
       "      <td>Female</td>\n",
       "      <td>MEXICO</td>\n",
       "      <td>(b)(7)e)</td>\n",
       "      <td>NaN</td>\n",
       "      <td>[3] Deportable - Administratively Final Order</td>\n",
       "    </tr>\n",
       "    <tr>\n",
       "      <th>2</th>\n",
       "      <td>1/4/2012</td>\n",
       "      <td>(b)(6),(b)(7)c)</td>\n",
       "      <td>Male</td>\n",
       "      <td>MEXICO</td>\n",
       "      <td>(b)(7)e)</td>\n",
       "      <td>NaN</td>\n",
       "      <td>[8C] Excludable / Inadmissible - Administrativ...</td>\n",
       "    </tr>\n",
       "    <tr>\n",
       "      <th>3</th>\n",
       "      <td>1/4/2012</td>\n",
       "      <td>(b)(6),(b)(7)c)</td>\n",
       "      <td>Male</td>\n",
       "      <td>MEXICO</td>\n",
       "      <td>(b)(7)e)</td>\n",
       "      <td>NaN</td>\n",
       "      <td>[16] Reinstated Final Order</td>\n",
       "    </tr>\n",
       "    <tr>\n",
       "      <th>4</th>\n",
       "      <td>1/4/2012</td>\n",
       "      <td>(b)(6),(b)(7)c)</td>\n",
       "      <td>Male</td>\n",
       "      <td>MEXICO</td>\n",
       "      <td>(b)(7)e)</td>\n",
       "      <td>NaN</td>\n",
       "      <td>[16] Reinstated Final Order</td>\n",
       "    </tr>\n",
       "  </tbody>\n",
       "</table>\n",
       "</div>"
      ],
      "text/plain": [
       "  Departed Date    Date of Birth  Gender Country of Citizenship Event Number  \\\n",
       "0      1/3/2012  (b)(6),(b)(7)c)    Male                 MEXICO     (b)(7)e)   \n",
       "1      1/3/2012  (b)(6),(b)(7)c)  Female                 MEXICO     (b)(7)e)   \n",
       "2      1/4/2012  (b)(6),(b)(7)c)    Male                 MEXICO     (b)(7)e)   \n",
       "3      1/4/2012  (b)(6),(b)(7)c)    Male                 MEXICO     (b)(7)e)   \n",
       "4      1/4/2012  (b)(6),(b)(7)c)    Male                 MEXICO     (b)(7)e)   \n",
       "\n",
       "  Most Serious Conviction                                      Case Category  \n",
       "0                     NaN  [8C] Excludable / Inadmissible - Administrativ...  \n",
       "1                     NaN      [3] Deportable - Administratively Final Order  \n",
       "2                     NaN  [8C] Excludable / Inadmissible - Administrativ...  \n",
       "3                     NaN                        [16] Reinstated Final Order  \n",
       "4                     NaN                        [16] Reinstated Final Order  "
      ]
     },
     "execution_count": 7,
     "metadata": {},
     "output_type": "execute_result"
    }
   ],
   "source": [
    "other.head()"
   ]
  },
  {
   "cell_type": "code",
   "execution_count": 8,
   "metadata": {},
   "outputs": [],
   "source": [
    "arrests['Arrest Date'] = pd.to_datetime(arrests['Arrest Date'])\n",
    "# arrests.set_index('Arrest Date', inplace=True)"
   ]
  },
  {
   "cell_type": "code",
   "execution_count": 9,
   "metadata": {},
   "outputs": [
    {
     "data": {
      "text/plain": [
       "Timestamp('2019-07-05 00:00:00')"
      ]
     },
     "execution_count": 9,
     "metadata": {},
     "output_type": "execute_result"
    }
   ],
   "source": [
    "arrests['Arrest Date'].max()"
   ]
  },
  {
   "cell_type": "code",
   "execution_count": 10,
   "metadata": {},
   "outputs": [
    {
     "data": {
      "text/plain": [
       "Index(['Arrest Date', 'Date of Birth', 'Gender', 'Country of Citizenship',\n",
       "       'Event Number', 'Apprehension Landmark', 'Arrest Method',\n",
       "       'Most Serious Conviction'],\n",
       "      dtype='object')"
      ]
     },
     "execution_count": 10,
     "metadata": {},
     "output_type": "execute_result"
    }
   ],
   "source": [
    "arrests.columns"
   ]
  },
  {
   "cell_type": "code",
   "execution_count": 11,
   "metadata": {},
   "outputs": [],
   "source": [
    "arrests['Most Serious Conviction'] = arrests['Most Serious Conviction'].str.upper()\n",
    "arrests['Most Serious Conviction'] = arrests['Most Serious Conviction'].str.strip()"
   ]
  },
  {
   "cell_type": "code",
   "execution_count": 12,
   "metadata": {},
   "outputs": [
    {
     "data": {
      "text/plain": [
       "257"
      ]
     },
     "execution_count": 12,
     "metadata": {},
     "output_type": "execute_result"
    }
   ],
   "source": [
    "len(arrests['Most Serious Conviction'].unique())"
   ]
  },
  {
   "cell_type": "code",
   "execution_count": 13,
   "metadata": {},
   "outputs": [
    {
     "data": {
      "text/plain": [
       "NaN                               0.663277\n",
       "ASSAULT                           0.050724\n",
       "DRIVING UNDER INFLUENCE LIQUOR    0.043074\n",
       "TRAFFIC OFFENSE                   0.017635\n",
       "LARCENY                           0.012596\n",
       "DOMESTIC VIOLENCE                 0.011306\n",
       "DRUG TRAFFICKING                  0.011030\n",
       "AMPHETAMINE - SELL                0.009463\n",
       "BURGLARY                          0.008357\n",
       "SEX ASSAULT                       0.007804\n",
       "Name: Most Serious Conviction, dtype: float64"
      ]
     },
     "execution_count": 13,
     "metadata": {},
     "output_type": "execute_result"
    }
   ],
   "source": [
    "arrests['Most Serious Conviction'].value_counts(dropna=False, normalize=True).head(10)"
   ]
  },
  {
   "cell_type": "code",
   "execution_count": 14,
   "metadata": {},
   "outputs": [],
   "source": [
    "arrests['Apprehension Landmark'] = arrests['Apprehension Landmark'].str.upper()\n",
    "arrests['Apprehension Landmark'] = arrests['Apprehension Landmark'].str.strip()"
   ]
  },
  {
   "cell_type": "code",
   "execution_count": 15,
   "metadata": {},
   "outputs": [
    {
     "data": {
      "text/plain": [
       "299"
      ]
     },
     "execution_count": 15,
     "metadata": {},
     "output_type": "execute_result"
    }
   ],
   "source": [
    "len(arrests['Apprehension Landmark'].unique())"
   ]
  },
  {
   "cell_type": "code",
   "execution_count": 16,
   "metadata": {},
   "outputs": [
    {
     "data": {
      "text/plain": [
       "POO CAP NON-CUSTODIAL ARREST                 1576\n",
       "SEA CAP                                      1445\n",
       "FRANKLIN CO. JAIL                            1408\n",
       "WASHINGTON COUNTY JAIL                       1106\n",
       "YAKIMA COUNTY JAIL                           1058\n",
       "GRANT CO. JAIL, WA                           1007\n",
       "MULTNOMAH COUNTY JAILS (INVERNESS & MCDC)    1006\n",
       "SEATTLE FUG OPS                               996\n",
       "BENTON CO. JAIL                               854\n",
       "FEDERAL DETENTION CENTER (FDC)                843\n",
       "Name: Apprehension Landmark, dtype: int64"
      ]
     },
     "execution_count": 16,
     "metadata": {},
     "output_type": "execute_result"
    }
   ],
   "source": [
    "arrests['Apprehension Landmark'].value_counts(dropna=False).head(10)"
   ]
  },
  {
   "cell_type": "code",
   "execution_count": 17,
   "metadata": {},
   "outputs": [
    {
     "data": {
      "text/plain": [
       "18"
      ]
     },
     "execution_count": 17,
     "metadata": {},
     "output_type": "execute_result"
    }
   ],
   "source": [
    "len(arrests['Arrest Method'].unique())"
   ]
  },
  {
   "cell_type": "code",
   "execution_count": 20,
   "metadata": {},
   "outputs": [
    {
     "data": {
      "text/html": [
       "<div>\n",
       "<style scoped>\n",
       "    .dataframe tbody tr th:only-of-type {\n",
       "        vertical-align: middle;\n",
       "    }\n",
       "\n",
       "    .dataframe tbody tr th {\n",
       "        vertical-align: top;\n",
       "    }\n",
       "\n",
       "    .dataframe thead th {\n",
       "        text-align: right;\n",
       "    }\n",
       "</style>\n",
       "<table border=\"1\" class=\"dataframe\">\n",
       "  <thead>\n",
       "    <tr style=\"text-align: right;\">\n",
       "      <th></th>\n",
       "      <th>Arrest Date</th>\n",
       "      <th>Date of Birth</th>\n",
       "      <th>Gender</th>\n",
       "      <th>Country of Citizenship</th>\n",
       "      <th>Event Number</th>\n",
       "      <th>Apprehension Landmark</th>\n",
       "      <th>Arrest Method</th>\n",
       "      <th>Most Serious Conviction</th>\n",
       "    </tr>\n",
       "  </thead>\n",
       "  <tbody>\n",
       "    <tr>\n",
       "      <th>0</th>\n",
       "      <td>2012-01-01</td>\n",
       "      <td>(b)(6),(b)(7)c)</td>\n",
       "      <td>Male</td>\n",
       "      <td>MEXICO</td>\n",
       "      <td>(b)(7)e)</td>\n",
       "      <td>SNOHOMISH COUNTY JAIL</td>\n",
       "      <td>CAP Local Incarceration</td>\n",
       "      <td>NaN</td>\n",
       "    </tr>\n",
       "    <tr>\n",
       "      <th>1</th>\n",
       "      <td>2012-01-01</td>\n",
       "      <td>(b)(6),(b)(7)c)</td>\n",
       "      <td>Male</td>\n",
       "      <td>MEXICO</td>\n",
       "      <td>(b)(7)e)</td>\n",
       "      <td>FRANKLIN CO. JAIL</td>\n",
       "      <td>CAP Local Incarceration</td>\n",
       "      <td>NaN</td>\n",
       "    </tr>\n",
       "    <tr>\n",
       "      <th>2</th>\n",
       "      <td>2012-01-01</td>\n",
       "      <td>(b)(6),(b)(7)c)</td>\n",
       "      <td>Male</td>\n",
       "      <td>MEXICO</td>\n",
       "      <td>(b)(7)e)</td>\n",
       "      <td>BENTON CO. JAIL</td>\n",
       "      <td>CAP Local Incarceration</td>\n",
       "      <td>NaN</td>\n",
       "    </tr>\n",
       "    <tr>\n",
       "      <th>3</th>\n",
       "      <td>2012-01-01</td>\n",
       "      <td>(b)(6),(b)(7)c)</td>\n",
       "      <td>Male</td>\n",
       "      <td>MEXICO</td>\n",
       "      <td>(b)(7)e)</td>\n",
       "      <td>COLUMBIA COUNTY JAIL</td>\n",
       "      <td>CAP Local Incarceration</td>\n",
       "      <td>NaN</td>\n",
       "    </tr>\n",
       "    <tr>\n",
       "      <th>4</th>\n",
       "      <td>2012-01-01</td>\n",
       "      <td>(b)(6),(b)(7)c)</td>\n",
       "      <td>Male</td>\n",
       "      <td>MEXICO</td>\n",
       "      <td>(b)(7)e)</td>\n",
       "      <td>FRANKLIN CO. JAIL</td>\n",
       "      <td>CAP Local Incarceration</td>\n",
       "      <td>NaN</td>\n",
       "    </tr>\n",
       "  </tbody>\n",
       "</table>\n",
       "</div>"
      ],
      "text/plain": [
       "  Arrest Date    Date of Birth Gender Country of Citizenship Event Number  \\\n",
       "0  2012-01-01  (b)(6),(b)(7)c)   Male                 MEXICO     (b)(7)e)   \n",
       "1  2012-01-01  (b)(6),(b)(7)c)   Male                 MEXICO     (b)(7)e)   \n",
       "2  2012-01-01  (b)(6),(b)(7)c)   Male                 MEXICO     (b)(7)e)   \n",
       "3  2012-01-01  (b)(6),(b)(7)c)   Male                 MEXICO     (b)(7)e)   \n",
       "4  2012-01-01  (b)(6),(b)(7)c)   Male                 MEXICO     (b)(7)e)   \n",
       "\n",
       "   Apprehension Landmark            Arrest Method Most Serious Conviction  \n",
       "0  SNOHOMISH COUNTY JAIL  CAP Local Incarceration                     NaN  \n",
       "1      FRANKLIN CO. JAIL  CAP Local Incarceration                     NaN  \n",
       "2        BENTON CO. JAIL  CAP Local Incarceration                     NaN  \n",
       "3   COLUMBIA COUNTY JAIL  CAP Local Incarceration                     NaN  \n",
       "4      FRANKLIN CO. JAIL  CAP Local Incarceration                     NaN  "
      ]
     },
     "execution_count": 20,
     "metadata": {},
     "output_type": "execute_result"
    }
   ],
   "source": [
    "arrests.head()"
   ]
  },
  {
   "cell_type": "code",
   "execution_count": 21,
   "metadata": {},
   "outputs": [],
   "source": [
    "arrests.set_index('Arrest Date', inplace=True)"
   ]
  },
  {
   "cell_type": "code",
   "execution_count": 22,
   "metadata": {},
   "outputs": [
    {
     "data": {
      "text/plain": [
       "<matplotlib.axes._subplots.AxesSubplot at 0x1179452e8>"
      ]
     },
     "execution_count": 22,
     "metadata": {},
     "output_type": "execute_result"
    },
    {
     "data": {
      "image/png": "[encoded data removed]",
      "text/plain": [
       "<Figure size 432x288 with 1 Axes>"
      ]
     },
     "metadata": {
      "needs_background": "light"
     },
     "output_type": "display_data"
    }
   ],
   "source": [
    "arrests.groupby(pd.Grouper(freq='AS-OCT'))['Event Number'].count().plot()"
   ]
  },
  {
   "cell_type": "code",
   "execution_count": 23,
   "metadata": {
    "scrolled": false
   },
   "outputs": [],
   "source": [
    "arrests_by_method = arrests.groupby([pd.Grouper(freq='AS-OCT'), 'Arrest Method'])['Event Number'].count().unstack()"
   ]
  },
  {
   "cell_type": "code",
   "execution_count": 24,
   "metadata": {},
   "outputs": [],
   "source": [
    "cap_local = arrests_by_method['CAP Local Incarceration']"
   ]
  },
  {
   "cell_type": "code",
   "execution_count": 25,
   "metadata": {},
   "outputs": [],
   "source": [
    "methods = list(arrests_by_method.columns)\n",
    "methods.remove('CAP Local Incarceration')"
   ]
  },
  {
   "cell_type": "code",
   "execution_count": 26,
   "metadata": {},
   "outputs": [],
   "source": [
    "all_other = arrests_by_method[methods].sum(axis=1)"
   ]
  },
  {
   "cell_type": "code",
   "execution_count": 27,
   "metadata": {},
   "outputs": [
    {
     "data": {
      "image/png": "[encoded data removed]",
      "text/plain": [
       "<Figure size 432x288 with 1 Axes>"
      ]
     },
     "metadata": {
      "needs_background": "light"
     },
     "output_type": "display_data"
    }
   ],
   "source": [
    "plt.plot(cap_local, label='CAP Local Incarceration')\n",
    "plt.plot(all_other, label='All other arest methods')\n",
    "plt.ylim([0, 6000])\n",
    "plt.title('ICE ERO LESA arrests')\n",
    "plt.xlabel('Fiscal Year')\n",
    "plt.legend();"
   ]
  },
  {
   "cell_type": "code",
   "execution_count": 28,
   "metadata": {},
   "outputs": [
    {
     "ename": "FileNotFoundError",
     "evalue": "File b'../../../../ice-air/installment2/analyze/output/KBFI-dropoffs.csv' does not exist",
     "output_type": "error",
     "traceback": [
      "\u001b[0;31m---------------------------------------------------------------------------\u001b[0m",
      "\u001b[0;31mFileNotFoundError\u001b[0m                         Traceback (most recent call last)",
      "\u001b[0;32m<ipython-input-28-1f2805b805cf>\u001b[0m in \u001b[0;36m<module>\u001b[0;34m\u001b[0m\n\u001b[0;32m----> 1\u001b[0;31m \u001b[0mKBFI_dropoffs\u001b[0m \u001b[0;34m=\u001b[0m \u001b[0mpd\u001b[0m\u001b[0;34m.\u001b[0m\u001b[0mread_csv\u001b[0m\u001b[0;34m(\u001b[0m\u001b[0;34m'../../../../ice-air/installment2/analyze/output/KBFI-dropoffs.csv'\u001b[0m\u001b[0;34m,\u001b[0m \u001b[0mheader\u001b[0m\u001b[0;34m=\u001b[0m\u001b[0;32mNone\u001b[0m\u001b[0;34m)\u001b[0m\u001b[0;34m\u001b[0m\u001b[0;34m\u001b[0m\u001b[0m\n\u001b[0m",
      "\u001b[0;32m~/anaconda3/lib/python3.7/site-packages/pandas/io/parsers.py\u001b[0m in \u001b[0;36mparser_f\u001b[0;34m(filepath_or_buffer, sep, delimiter, header, names, index_col, usecols, squeeze, prefix, mangle_dupe_cols, dtype, engine, converters, true_values, false_values, skipinitialspace, skiprows, nrows, na_values, keep_default_na, na_filter, verbose, skip_blank_lines, parse_dates, infer_datetime_format, keep_date_col, date_parser, dayfirst, iterator, chunksize, compression, thousands, decimal, lineterminator, quotechar, quoting, escapechar, comment, encoding, dialect, tupleize_cols, error_bad_lines, warn_bad_lines, skipfooter, doublequote, delim_whitespace, low_memory, memory_map, float_precision)\u001b[0m\n\u001b[1;32m    676\u001b[0m                     skip_blank_lines=skip_blank_lines)\n\u001b[1;32m    677\u001b[0m \u001b[0;34m\u001b[0m\u001b[0m\n\u001b[0;32m--> 678\u001b[0;31m         \u001b[0;32mreturn\u001b[0m \u001b[0m_read\u001b[0m\u001b[0;34m(\u001b[0m\u001b[0mfilepath_or_buffer\u001b[0m\u001b[0;34m,\u001b[0m \u001b[0mkwds\u001b[0m\u001b[0;34m)\u001b[0m\u001b[0;34m\u001b[0m\u001b[0;34m\u001b[0m\u001b[0m\n\u001b[0m\u001b[1;32m    679\u001b[0m \u001b[0;34m\u001b[0m\u001b[0m\n\u001b[1;32m    680\u001b[0m     \u001b[0mparser_f\u001b[0m\u001b[0;34m.\u001b[0m\u001b[0m__name__\u001b[0m \u001b[0;34m=\u001b[0m \u001b[0mname\u001b[0m\u001b[0;34m\u001b[0m\u001b[0;34m\u001b[0m\u001b[0m\n",
      "\u001b[0;32m~/anaconda3/lib/python3.7/site-packages/pandas/io/parsers.py\u001b[0m in \u001b[0;36m_read\u001b[0;34m(filepath_or_buffer, kwds)\u001b[0m\n\u001b[1;32m    438\u001b[0m \u001b[0;34m\u001b[0m\u001b[0m\n\u001b[1;32m    439\u001b[0m     \u001b[0;31m# Create the parser.\u001b[0m\u001b[0;34m\u001b[0m\u001b[0;34m\u001b[0m\u001b[0;34m\u001b[0m\u001b[0m\n\u001b[0;32m--> 440\u001b[0;31m     \u001b[0mparser\u001b[0m \u001b[0;34m=\u001b[0m \u001b[0mTextFileReader\u001b[0m\u001b[0;34m(\u001b[0m\u001b[0mfilepath_or_buffer\u001b[0m\u001b[0;34m,\u001b[0m \u001b[0;34m**\u001b[0m\u001b[0mkwds\u001b[0m\u001b[0;34m)\u001b[0m\u001b[0;34m\u001b[0m\u001b[0;34m\u001b[0m\u001b[0m\n\u001b[0m\u001b[1;32m    441\u001b[0m \u001b[0;34m\u001b[0m\u001b[0m\n\u001b[1;32m    442\u001b[0m     \u001b[0;32mif\u001b[0m \u001b[0mchunksize\u001b[0m \u001b[0;32mor\u001b[0m \u001b[0miterator\u001b[0m\u001b[0;34m:\u001b[0m\u001b[0;34m\u001b[0m\u001b[0;34m\u001b[0m\u001b[0m\n",
      "\u001b[0;32m~/anaconda3/lib/python3.7/site-packages/pandas/io/parsers.py\u001b[0m in \u001b[0;36m__init__\u001b[0;34m(self, f, engine, **kwds)\u001b[0m\n\u001b[1;32m    785\u001b[0m             \u001b[0mself\u001b[0m\u001b[0;34m.\u001b[0m\u001b[0moptions\u001b[0m\u001b[0;34m[\u001b[0m\u001b[0;34m'has_index_names'\u001b[0m\u001b[0;34m]\u001b[0m \u001b[0;34m=\u001b[0m \u001b[0mkwds\u001b[0m\u001b[0;34m[\u001b[0m\u001b[0;34m'has_index_names'\u001b[0m\u001b[0;34m]\u001b[0m\u001b[0;34m\u001b[0m\u001b[0;34m\u001b[0m\u001b[0m\n\u001b[1;32m    786\u001b[0m \u001b[0;34m\u001b[0m\u001b[0m\n\u001b[0;32m--> 787\u001b[0;31m         \u001b[0mself\u001b[0m\u001b[0;34m.\u001b[0m\u001b[0m_make_engine\u001b[0m\u001b[0;34m(\u001b[0m\u001b[0mself\u001b[0m\u001b[0;34m.\u001b[0m\u001b[0mengine\u001b[0m\u001b[0;34m)\u001b[0m\u001b[0;34m\u001b[0m\u001b[0;34m\u001b[0m\u001b[0m\n\u001b[0m\u001b[1;32m    788\u001b[0m \u001b[0;34m\u001b[0m\u001b[0m\n\u001b[1;32m    789\u001b[0m     \u001b[0;32mdef\u001b[0m \u001b[0mclose\u001b[0m\u001b[0;34m(\u001b[0m\u001b[0mself\u001b[0m\u001b[0;34m)\u001b[0m\u001b[0;34m:\u001b[0m\u001b[0;34m\u001b[0m\u001b[0;34m\u001b[0m\u001b[0m\n",
      "\u001b[0;32m~/anaconda3/lib/python3.7/site-packages/pandas/io/parsers.py\u001b[0m in \u001b[0;36m_make_engine\u001b[0;34m(self, engine)\u001b[0m\n\u001b[1;32m   1012\u001b[0m     \u001b[0;32mdef\u001b[0m \u001b[0m_make_engine\u001b[0m\u001b[0;34m(\u001b[0m\u001b[0mself\u001b[0m\u001b[0;34m,\u001b[0m \u001b[0mengine\u001b[0m\u001b[0;34m=\u001b[0m\u001b[0;34m'c'\u001b[0m\u001b[0;34m)\u001b[0m\u001b[0;34m:\u001b[0m\u001b[0;34m\u001b[0m\u001b[0;34m\u001b[0m\u001b[0m\n\u001b[1;32m   1013\u001b[0m         \u001b[0;32mif\u001b[0m \u001b[0mengine\u001b[0m \u001b[0;34m==\u001b[0m \u001b[0;34m'c'\u001b[0m\u001b[0;34m:\u001b[0m\u001b[0;34m\u001b[0m\u001b[0;34m\u001b[0m\u001b[0m\n\u001b[0;32m-> 1014\u001b[0;31m             \u001b[0mself\u001b[0m\u001b[0;34m.\u001b[0m\u001b[0m_engine\u001b[0m \u001b[0;34m=\u001b[0m \u001b[0mCParserWrapper\u001b[0m\u001b[0;34m(\u001b[0m\u001b[0mself\u001b[0m\u001b[0;34m.\u001b[0m\u001b[0mf\u001b[0m\u001b[0;34m,\u001b[0m \u001b[0;34m**\u001b[0m\u001b[0mself\u001b[0m\u001b[0;34m.\u001b[0m\u001b[0moptions\u001b[0m\u001b[0;34m)\u001b[0m\u001b[0;34m\u001b[0m\u001b[0;34m\u001b[0m\u001b[0m\n\u001b[0m\u001b[1;32m   1015\u001b[0m         \u001b[0;32melse\u001b[0m\u001b[0;34m:\u001b[0m\u001b[0;34m\u001b[0m\u001b[0;34m\u001b[0m\u001b[0m\n\u001b[1;32m   1016\u001b[0m             \u001b[0;32mif\u001b[0m \u001b[0mengine\u001b[0m \u001b[0;34m==\u001b[0m \u001b[0;34m'python'\u001b[0m\u001b[0;34m:\u001b[0m\u001b[0;34m\u001b[0m\u001b[0;34m\u001b[0m\u001b[0m\n",
      "\u001b[0;32m~/anaconda3/lib/python3.7/site-packages/pandas/io/parsers.py\u001b[0m in \u001b[0;36m__init__\u001b[0;34m(self, src, **kwds)\u001b[0m\n\u001b[1;32m   1706\u001b[0m         \u001b[0mkwds\u001b[0m\u001b[0;34m[\u001b[0m\u001b[0;34m'usecols'\u001b[0m\u001b[0;34m]\u001b[0m \u001b[0;34m=\u001b[0m \u001b[0mself\u001b[0m\u001b[0;34m.\u001b[0m\u001b[0musecols\u001b[0m\u001b[0;34m\u001b[0m\u001b[0;34m\u001b[0m\u001b[0m\n\u001b[1;32m   1707\u001b[0m \u001b[0;34m\u001b[0m\u001b[0m\n\u001b[0;32m-> 1708\u001b[0;31m         \u001b[0mself\u001b[0m\u001b[0;34m.\u001b[0m\u001b[0m_reader\u001b[0m \u001b[0;34m=\u001b[0m \u001b[0mparsers\u001b[0m\u001b[0;34m.\u001b[0m\u001b[0mTextReader\u001b[0m\u001b[0;34m(\u001b[0m\u001b[0msrc\u001b[0m\u001b[0;34m,\u001b[0m \u001b[0;34m**\u001b[0m\u001b[0mkwds\u001b[0m\u001b[0;34m)\u001b[0m\u001b[0;34m\u001b[0m\u001b[0;34m\u001b[0m\u001b[0m\n\u001b[0m\u001b[1;32m   1709\u001b[0m \u001b[0;34m\u001b[0m\u001b[0m\n\u001b[1;32m   1710\u001b[0m         \u001b[0mpassed_names\u001b[0m \u001b[0;34m=\u001b[0m \u001b[0mself\u001b[0m\u001b[0;34m.\u001b[0m\u001b[0mnames\u001b[0m \u001b[0;32mis\u001b[0m \u001b[0;32mNone\u001b[0m\u001b[0;34m\u001b[0m\u001b[0;34m\u001b[0m\u001b[0m\n",
      "\u001b[0;32mpandas/_libs/parsers.pyx\u001b[0m in \u001b[0;36mpandas._libs.parsers.TextReader.__cinit__\u001b[0;34m()\u001b[0m\n",
      "\u001b[0;32mpandas/_libs/parsers.pyx\u001b[0m in \u001b[0;36mpandas._libs.parsers.TextReader._setup_parser_source\u001b[0;34m()\u001b[0m\n",
      "\u001b[0;31mFileNotFoundError\u001b[0m: File b'../../../../ice-air/installment2/analyze/output/KBFI-dropoffs.csv' does not exist"
     ]
    }
   ],
   "source": [
    "KBFI_dropoffs = pd.read_csv('../../../../ice-air/installment2/analyze/output/KBFI-dropoffs.csv', header=None)"
   ]
  },
  {
   "cell_type": "code",
   "execution_count": null,
   "metadata": {},
   "outputs": [],
   "source": [
    "KBFI_dropoffs.columns = ['FY', 'Dropoff total']"
   ]
  },
  {
   "cell_type": "code",
   "execution_count": null,
   "metadata": {},
   "outputs": [],
   "source": [
    "KBFI_dropoffs['FY'] = pd.to_datetime(KBFI_dropoffs['FY'])"
   ]
  },
  {
   "cell_type": "code",
   "execution_count": null,
   "metadata": {},
   "outputs": [],
   "source": [
    "KBFI_dropoffs.set_index('FY', inplace=True)"
   ]
  },
  {
   "cell_type": "code",
   "execution_count": null,
   "metadata": {},
   "outputs": [],
   "source": [
    "temp = pd.DataFrame([KBFI_dropoffs, all_other])"
   ]
  },
  {
   "cell_type": "code",
   "execution_count": null,
   "metadata": {},
   "outputs": [],
   "source": [
    "other_arrests_plus_ice_air = KBFI_dropoffs['Dropoff total'] + all_other"
   ]
  },
  {
   "cell_type": "code",
   "execution_count": null,
   "metadata": {},
   "outputs": [],
   "source": [
    "plt.plot(cap_local, label='CAP Local Incarceration only')\n",
    "plt.plot(other_arrests_plus_ice_air, label='Other arrests, plus ICE Air')\n",
    "plt.ylim([0, 6000])\n",
    "plt.title('Local arrests plus ICE Air dropoffs')\n",
    "plt.xlabel('Fiscal Year')\n",
    "plt.legend();"
   ]
  },
  {
   "cell_type": "code",
   "execution_count": null,
   "metadata": {},
   "outputs": [],
   "source": []
  },
  {
   "cell_type": "code",
   "execution_count": null,
   "metadata": {},
   "outputs": [],
   "source": []
  },
  {
   "cell_type": "code",
   "execution_count": null,
   "metadata": {},
   "outputs": [],
   "source": []
  },
  {
   "cell_type": "code",
   "execution_count": 29,
   "metadata": {},
   "outputs": [],
   "source": [
    "grant_co_jail = arrests[arrests['Apprehension Landmark'] == 'GRANT CO. JAIL, WA']"
   ]
  },
  {
   "cell_type": "code",
   "execution_count": 30,
   "metadata": {},
   "outputs": [
    {
     "data": {
      "text/plain": [
       "MEXICO                0.932473\n",
       "EL SALVADOR           0.032771\n",
       "GUATEMALA             0.016882\n",
       "HONDURAS              0.004965\n",
       "UKRAINE               0.002979\n",
       "UNKNOWN               0.001986\n",
       "KENYA                 0.000993\n",
       "CANADA                0.000993\n",
       "ITALY                 0.000993\n",
       "NICARAGUA             0.000993\n",
       "CAMBODIA              0.000993\n",
       "PERU                  0.000993\n",
       "TONGA                 0.000993\n",
       "BOSNIA-HERZEGOVINA    0.000993\n",
       "Name: Country of Citizenship, dtype: float64"
      ]
     },
     "execution_count": 30,
     "metadata": {},
     "output_type": "execute_result"
    }
   ],
   "source": [
    "grant_co_jail['Country of Citizenship'].value_counts(dropna=False, normalize=True)"
   ]
  },
  {
   "cell_type": "code",
   "execution_count": 31,
   "metadata": {},
   "outputs": [
    {
     "data": {
      "text/plain": [
       "MEXICO         0.797413\n",
       "GUATEMALA      0.054718\n",
       "EL SALVADOR    0.026698\n",
       "HONDURAS       0.021998\n",
       "VIETNAM        0.007066\n",
       "UKRAINE        0.006329\n",
       "CUBA           0.004178\n",
       "SOMALIA        0.004025\n",
       "PHILIPPINES    0.003963\n",
       "CAMBODIA       0.003933\n",
       "Name: Country of Citizenship, dtype: float64"
      ]
     },
     "execution_count": 31,
     "metadata": {},
     "output_type": "execute_result"
    }
   ],
   "source": [
    "arrests['Country of Citizenship'].value_counts(dropna=False, normalize=True).head(10)"
   ]
  },
  {
   "cell_type": "code",
   "execution_count": 32,
   "metadata": {},
   "outputs": [
    {
     "data": {
      "text/plain": [
       "Index(['Book In Date', 'Date of Birth', 'Gender', 'Country of Citizenship',\n",
       "       'Detention Facility', 'Apprehension Method', 'Most Serious Conviction'],\n",
       "      dtype='object')"
      ]
     },
     "execution_count": 32,
     "metadata": {},
     "output_type": "execute_result"
    }
   ],
   "source": [
    "bookins.columns"
   ]
  },
  {
   "cell_type": "code",
   "execution_count": 33,
   "metadata": {},
   "outputs": [],
   "source": [
    "bookins['Book In Date'] = pd.to_datetime(bookins['Book In Date'])\n",
    "bookins.set_index('Book In Date', inplace=True)"
   ]
  },
  {
   "cell_type": "code",
   "execution_count": 34,
   "metadata": {},
   "outputs": [],
   "source": [
    "bookins['Most Serious Conviction'] = bookins['Most Serious Conviction'].str.upper()\n",
    "bookins['Most Serious Conviction'] = bookins['Most Serious Conviction'].str.strip()"
   ]
  },
  {
   "cell_type": "code",
   "execution_count": 35,
   "metadata": {},
   "outputs": [
    {
     "data": {
      "text/plain": [
       "NaN                               0.677895\n",
       "ASSAULT                           0.048219\n",
       "DRIVING UNDER INFLUENCE LIQUOR    0.040749\n",
       "TRAFFIC OFFENSE                   0.016490\n",
       "LARCENY                           0.011518\n",
       "DOMESTIC VIOLENCE                 0.010839\n",
       "DRUG TRAFFICKING                  0.010242\n",
       "AMPHETAMINE - SELL                0.008938\n",
       "BURGLARY                          0.008150\n",
       "SEX ASSAULT                       0.007498\n",
       "Name: Most Serious Conviction, dtype: float64"
      ]
     },
     "execution_count": 35,
     "metadata": {},
     "output_type": "execute_result"
    }
   ],
   "source": [
    "bookins['Most Serious Conviction'].value_counts(dropna=False, normalize=True).head(10)"
   ]
  },
  {
   "cell_type": "code",
   "execution_count": 36,
   "metadata": {},
   "outputs": [
    {
     "data": {
      "text/html": [
       "<div>\n",
       "<style scoped>\n",
       "    .dataframe tbody tr th:only-of-type {\n",
       "        vertical-align: middle;\n",
       "    }\n",
       "\n",
       "    .dataframe tbody tr th {\n",
       "        vertical-align: top;\n",
       "    }\n",
       "\n",
       "    .dataframe thead th {\n",
       "        text-align: right;\n",
       "    }\n",
       "</style>\n",
       "<table border=\"1\" class=\"dataframe\">\n",
       "  <thead>\n",
       "    <tr style=\"text-align: right;\">\n",
       "      <th></th>\n",
       "      <th>Date of Birth</th>\n",
       "      <th>Gender</th>\n",
       "      <th>Country of Citizenship</th>\n",
       "      <th>Detention Facility</th>\n",
       "      <th>Apprehension Method</th>\n",
       "      <th>Most Serious Conviction</th>\n",
       "    </tr>\n",
       "    <tr>\n",
       "      <th>Book In Date</th>\n",
       "      <th></th>\n",
       "      <th></th>\n",
       "      <th></th>\n",
       "      <th></th>\n",
       "      <th></th>\n",
       "      <th></th>\n",
       "    </tr>\n",
       "  </thead>\n",
       "  <tbody>\n",
       "    <tr>\n",
       "      <th>2019-07-03</th>\n",
       "      <td>(b)(6),(b)(7)c)</td>\n",
       "      <td>Male</td>\n",
       "      <td>NETHERLANDS</td>\n",
       "      <td>TACOMA ICE PROCESSING CENTER</td>\n",
       "      <td>Inspections</td>\n",
       "      <td>NaN</td>\n",
       "    </tr>\n",
       "    <tr>\n",
       "      <th>2019-07-03</th>\n",
       "      <td>(b)(6),(b)(7)c)</td>\n",
       "      <td>Male</td>\n",
       "      <td>MEXICO</td>\n",
       "      <td>EUGENE HOLDROOM</td>\n",
       "      <td>Non-Custodial Arrest</td>\n",
       "      <td>SEX ASSAULT</td>\n",
       "    </tr>\n",
       "    <tr>\n",
       "      <th>2019-07-03</th>\n",
       "      <td>(b)(6),(b)(7)c)</td>\n",
       "      <td>Male</td>\n",
       "      <td>LAOS</td>\n",
       "      <td>TACOMA ICE PROCESSING CENTER</td>\n",
       "      <td>NaN</td>\n",
       "      <td>POSSESSION OF WEAPON</td>\n",
       "    </tr>\n",
       "    <tr>\n",
       "      <th>2019-07-05</th>\n",
       "      <td>(b)(6),(b)(7)c)</td>\n",
       "      <td>Female</td>\n",
       "      <td>MEXICO</td>\n",
       "      <td>SEATTLE FIELD OFFICE HOLD ROOM</td>\n",
       "      <td>CAP Federal Incarceration</td>\n",
       "      <td>DRUG TRAFFICKING</td>\n",
       "    </tr>\n",
       "    <tr>\n",
       "      <th>2019-07-05</th>\n",
       "      <td>(b)(6),(b)(7)c)</td>\n",
       "      <td>Male</td>\n",
       "      <td>PHILIPPINES</td>\n",
       "      <td>SEATTLE FIELD OFFICE HOLD ROOM</td>\n",
       "      <td>Located</td>\n",
       "      <td>ASSAULT</td>\n",
       "    </tr>\n",
       "  </tbody>\n",
       "</table>\n",
       "</div>"
      ],
      "text/plain": [
       "                Date of Birth  Gender Country of Citizenship  \\\n",
       "Book In Date                                                   \n",
       "2019-07-03    (b)(6),(b)(7)c)    Male            NETHERLANDS   \n",
       "2019-07-03    (b)(6),(b)(7)c)    Male                 MEXICO   \n",
       "2019-07-03    (b)(6),(b)(7)c)    Male                   LAOS   \n",
       "2019-07-05    (b)(6),(b)(7)c)  Female                 MEXICO   \n",
       "2019-07-05    (b)(6),(b)(7)c)    Male            PHILIPPINES   \n",
       "\n",
       "                          Detention Facility        Apprehension Method  \\\n",
       "Book In Date                                                              \n",
       "2019-07-03      TACOMA ICE PROCESSING CENTER                Inspections   \n",
       "2019-07-03                   EUGENE HOLDROOM       Non-Custodial Arrest   \n",
       "2019-07-03      TACOMA ICE PROCESSING CENTER                        NaN   \n",
       "2019-07-05    SEATTLE FIELD OFFICE HOLD ROOM  CAP Federal Incarceration   \n",
       "2019-07-05    SEATTLE FIELD OFFICE HOLD ROOM                    Located   \n",
       "\n",
       "             Most Serious Conviction  \n",
       "Book In Date                          \n",
       "2019-07-03                       NaN  \n",
       "2019-07-03               SEX ASSAULT  \n",
       "2019-07-03      POSSESSION OF WEAPON  \n",
       "2019-07-05          DRUG TRAFFICKING  \n",
       "2019-07-05                   ASSAULT  "
      ]
     },
     "execution_count": 36,
     "metadata": {},
     "output_type": "execute_result"
    }
   ],
   "source": [
    "bookins.tail()"
   ]
  },
  {
   "cell_type": "code",
   "execution_count": 37,
   "metadata": {},
   "outputs": [],
   "source": [
    "nwdc = bookins['Detention Facility'].isin(['NORTHWEST DET. CENTER', 'TACOMA ICE PROCESSING CENTER'])"
   ]
  },
  {
   "cell_type": "code",
   "execution_count": 38,
   "metadata": {},
   "outputs": [
    {
     "data": {
      "text/plain": [
       "NaN                                                        0.849602\n",
       "ASSAULT                                                    0.025398\n",
       "DRIVING UNDER INFLUENCE LIQUOR                             0.016600\n",
       "TRAFFIC OFFENSE                                            0.010624\n",
       "LARCENY                                                    0.008632\n",
       "BURGLARY                                                   0.005312\n",
       "DRUG TRAFFICKING                                           0.005312\n",
       "DOMESTIC VIOLENCE                                          0.004980\n",
       "ILLEGAL ENTRY (INA SEC.101(A)(43)(O), 8USC1325 ONLY)       0.004150\n",
       "HIT AND RUN                                                0.003818\n",
       "DRUG POSSESSION                                            0.003320\n",
       "ROBBERY                                                    0.002822\n",
       "POSSESSION OF WEAPON                                       0.002822\n",
       "ILLEGAL RE-ENTRY (INA SEC.101(A)(43)(O), 8USC1326 ONLY)    0.002490\n",
       "DANGEROUS DRUGS                                            0.002490\n",
       "Name: Most Serious Conviction, dtype: float64"
      ]
     },
     "execution_count": 38,
     "metadata": {},
     "output_type": "execute_result"
    }
   ],
   "source": [
    "# No MSCC data for first few years\n",
    "bookins[nwdc]['Most Serious Conviction'].value_counts(dropna=False, normalize=True).head(15)"
   ]
  },
  {
   "cell_type": "code",
   "execution_count": 39,
   "metadata": {},
   "outputs": [
    {
     "data": {
      "text/plain": [
       "NaN                                                                        0.808511\n",
       "ASSAULT                                                                    0.028369\n",
       "DRIVING UNDER INFLUENCE LIQUOR                                             0.023641\n",
       "TRAFFIC OFFENSE                                                            0.016548\n",
       "LARCENY                                                                    0.014184\n",
       "PUBLIC ORDER CRIMES                                                        0.011820\n",
       "ILLEGAL ENTRY (INA SEC.101(A)(43)(O), 8USC1325 ONLY)                       0.007092\n",
       "HIT AND RUN                                                                0.007092\n",
       "DRUG TRAFFICKING                                                           0.007092\n",
       "ROBBERY                                                                    0.007092\n",
       "OBSTRUCT POLICE                                                            0.007092\n",
       "BURGLARY                                                                   0.004728\n",
       "WEAPON OFFENSE                                                             0.004728\n",
       "POSSESSION OF WEAPON                                                       0.004728\n",
       "FRAUD - FALSE STATEMENT                                                    0.004728\n",
       "DANGEROUS DRUGS                                                            0.002364\n",
       "STOLEN VEHICLE                                                             0.002364\n",
       "VEHICLE THEFT                                                              0.002364\n",
       "TRESPASSING                                                                0.002364\n",
       "COUNTERFEITING                                                             0.002364\n",
       "CRUELTY TOWARD CHILD                                                       0.002364\n",
       "AMPHETAMINE - POSSESSION                                                   0.002364\n",
       "DISORDERLY CONDUCT                                                         0.002364\n",
       "COCAINE - SELL                                                             0.002364\n",
       "SEXUAL EXPLOITATION OF MINOR - SEX PERFORMANCE                             0.002364\n",
       "IMMIGRATION (POSSESS OF FRAUD. IMMIGRATION DOCS)                           0.002364\n",
       "SEX ASSAULT                                                                0.002364\n",
       "SMUGGLING ALIENS                                                           0.002364\n",
       "ILLEGAL RE-ENTRY (INA SEC.101(A)(43)(O), 8USC1326 ONLY)                    0.002364\n",
       "FRAUD                                                                      0.002364\n",
       "FORGERY                                                                    0.002364\n",
       "AMPHETAMINE - SELL                                                         0.002364\n",
       "CONSPIRACY [USE WHEN NO UNDERLYING OFFENSE, SUCH AS 18 U.S.C. SEC. 371]    0.002364\n",
       "Name: Most Serious Conviction, dtype: float64"
      ]
     },
     "execution_count": 39,
     "metadata": {},
     "output_type": "execute_result"
    }
   ],
   "source": [
    "bookins[nwdc]['2019']['Most Serious Conviction'].value_counts(dropna=False, normalize=True)"
   ]
  },
  {
   "cell_type": "code",
   "execution_count": 40,
   "metadata": {},
   "outputs": [],
   "source": [
    "all_bookins = bookins.groupby(pd.Grouper(freq='AS-OCT'))['Date of Birth'].count()"
   ]
  },
  {
   "cell_type": "code",
   "execution_count": 41,
   "metadata": {},
   "outputs": [],
   "source": [
    "nwdc_bookins = bookins[nwdc].groupby(pd.Grouper(freq='AS-OCT'))['Date of Birth'].count()"
   ]
  },
  {
   "cell_type": "code",
   "execution_count": 42,
   "metadata": {},
   "outputs": [
    {
     "data": {
      "text/plain": [
       "Book In Date\n",
       "2011-10-01    1259\n",
       "2012-10-01     854\n",
       "2013-10-01     694\n",
       "2014-10-01     554\n",
       "2015-10-01     613\n",
       "2016-10-01     664\n",
       "2017-10-01     755\n",
       "2018-10-01     631\n",
       "Freq: AS-OCT, Name: Date of Birth, dtype: int64"
      ]
     },
     "execution_count": 42,
     "metadata": {},
     "output_type": "execute_result"
    }
   ],
   "source": [
    "nwdc_bookins"
   ]
  },
  {
   "cell_type": "code",
   "execution_count": 43,
   "metadata": {},
   "outputs": [
    {
     "data": {
      "text/plain": [
       "<matplotlib.axes._subplots.AxesSubplot at 0x116526710>"
      ]
     },
     "execution_count": 43,
     "metadata": {},
     "output_type": "execute_result"
    },
    {
     "data": {
      "image/png": "[encoded data removed]",
      "text/plain": [
       "<Figure size 432x288 with 1 Axes>"
      ]
     },
     "metadata": {
      "needs_background": "light"
     },
     "output_type": "display_data"
    }
   ],
   "source": [
    "bookins.groupby(pd.Grouper(freq='AS-OCT'))['Date of Birth'].count().plot()"
   ]
  },
  {
   "cell_type": "code",
   "execution_count": null,
   "metadata": {},
   "outputs": [],
   "source": []
  },
  {
   "cell_type": "code",
   "execution_count": null,
   "metadata": {},
   "outputs": [],
   "source": [
    "plt.plot(nwdc_bookins)\n",
    "plt.plot(KBFI_dropoffs['Dropoff total'])"
   ]
  },
  {
   "cell_type": "code",
   "execution_count": null,
   "metadata": {},
   "outputs": [],
   "source": [
    "plt.plot(all_bookins)\n",
    "plt.plot(KBFI_dropoffs['Dropoff total'])"
   ]
  },
  {
   "cell_type": "code",
   "execution_count": null,
   "metadata": {},
   "outputs": [],
   "source": [
    "bookins.head()"
   ]
  },
  {
   "cell_type": "code",
   "execution_count": null,
   "metadata": {},
   "outputs": [],
   "source": [
    "bookins.groupby(pd.Grouper(freq='AS-OCT'))['Detention Facility'].value_counts()"
   ]
  },
  {
   "cell_type": "code",
   "execution_count": null,
   "metadata": {},
   "outputs": [],
   "source": []
  },
  {
   "cell_type": "code",
   "execution_count": null,
   "metadata": {},
   "outputs": [],
   "source": []
  },
  {
   "cell_type": "code",
   "execution_count": null,
   "metadata": {},
   "outputs": [],
   "source": []
  },
  {
   "cell_type": "code",
   "execution_count": 47,
   "metadata": {},
   "outputs": [],
   "source": [
    "all_arrests = arrests.groupby(pd.Grouper(freq='AS-OCT'))['Date of Birth'].count()"
   ]
  },
  {
   "cell_type": "code",
   "execution_count": 62,
   "metadata": {},
   "outputs": [
    {
     "data": {
      "image/png": "[encoded data removed]",
      "text/plain": [
       "<Figure size 432x288 with 1 Axes>"
      ]
     },
     "metadata": {
      "needs_background": "light"
     },
     "output_type": "display_data"
    }
   ],
   "source": [
    "plt.plot(all_arrests, label='all arrests')\n",
    "plt.plot(all_bookins, label='all bookins')\n",
    "plt.plot(nwdc_bookins, label='nwdc bookins only')\n",
    "plt.ylim([0, 8000])\n",
    "plt.title('ICE Seattle AOR arrests/NWDC bookins')\n",
    "plt.xlabel('Fiscal Year')\n",
    "plt.legend();"
   ]
  },
  {
   "cell_type": "code",
   "execution_count": 72,
   "metadata": {},
   "outputs": [
    {
     "data": {
      "text/html": [
       "<div>\n",
       "<style scoped>\n",
       "    .dataframe tbody tr th:only-of-type {\n",
       "        vertical-align: middle;\n",
       "    }\n",
       "\n",
       "    .dataframe tbody tr th {\n",
       "        vertical-align: top;\n",
       "    }\n",
       "\n",
       "    .dataframe thead th {\n",
       "        text-align: right;\n",
       "    }\n",
       "</style>\n",
       "<table border=\"1\" class=\"dataframe\">\n",
       "  <thead>\n",
       "    <tr style=\"text-align: right;\">\n",
       "      <th>Detention Facility</th>\n",
       "      <th>ADAMS COUNTY</th>\n",
       "      <th>ANCHORAGE JAIL</th>\n",
       "      <th>BELLINGHAM BPS ERO HOLDROOM</th>\n",
       "      <th>CHELAN CO. REGIONAL JAIL</th>\n",
       "      <th>COLUMBIA COUNTY JAIL</th>\n",
       "      <th>COOK INLET PRETRIAL, ANCH</th>\n",
       "      <th>COWLITZ CO. JUV. DET.</th>\n",
       "      <th>DOUGLAS CO. JAIL</th>\n",
       "      <th>ECONOLODGE MOTEL</th>\n",
       "      <th>EUGENE HOLDROOM</th>\n",
       "      <th>...</th>\n",
       "      <th>SITKA CITY JAIL, SITKA AK</th>\n",
       "      <th>SPRINGFIELD CITY JAIL</th>\n",
       "      <th>STEVENS COUNTY JAIL</th>\n",
       "      <th>SUNNYSIDE JAIL</th>\n",
       "      <th>TACOMA ICE PROCESSING CENTER</th>\n",
       "      <th>UMATILLA CO JAIL</th>\n",
       "      <th>WILDWOOD PRE-TRIAL FAC.</th>\n",
       "      <th>WILDWOOD STATE CORR. CTR.</th>\n",
       "      <th>YAKIMA COUNTY</th>\n",
       "      <th>YAKIMA SUB-OFFICE</th>\n",
       "    </tr>\n",
       "    <tr>\n",
       "      <th>Book In Date</th>\n",
       "      <th></th>\n",
       "      <th></th>\n",
       "      <th></th>\n",
       "      <th></th>\n",
       "      <th></th>\n",
       "      <th></th>\n",
       "      <th></th>\n",
       "      <th></th>\n",
       "      <th></th>\n",
       "      <th></th>\n",
       "      <th></th>\n",
       "      <th></th>\n",
       "      <th></th>\n",
       "      <th></th>\n",
       "      <th></th>\n",
       "      <th></th>\n",
       "      <th></th>\n",
       "      <th></th>\n",
       "      <th></th>\n",
       "      <th></th>\n",
       "      <th></th>\n",
       "    </tr>\n",
       "  </thead>\n",
       "  <tbody>\n",
       "    <tr>\n",
       "      <th>2011-10-01</th>\n",
       "      <td>4.0</td>\n",
       "      <td>25.0</td>\n",
       "      <td>NaN</td>\n",
       "      <td>14.0</td>\n",
       "      <td>22.0</td>\n",
       "      <td>6.0</td>\n",
       "      <td>1.0</td>\n",
       "      <td>1.0</td>\n",
       "      <td>NaN</td>\n",
       "      <td>376.0</td>\n",
       "      <td>...</td>\n",
       "      <td>NaN</td>\n",
       "      <td>NaN</td>\n",
       "      <td>NaN</td>\n",
       "      <td>NaN</td>\n",
       "      <td>NaN</td>\n",
       "      <td>41.0</td>\n",
       "      <td>2.0</td>\n",
       "      <td>NaN</td>\n",
       "      <td>317.0</td>\n",
       "      <td>872.0</td>\n",
       "    </tr>\n",
       "    <tr>\n",
       "      <th>2012-10-01</th>\n",
       "      <td>NaN</td>\n",
       "      <td>25.0</td>\n",
       "      <td>NaN</td>\n",
       "      <td>NaN</td>\n",
       "      <td>51.0</td>\n",
       "      <td>1.0</td>\n",
       "      <td>NaN</td>\n",
       "      <td>1.0</td>\n",
       "      <td>NaN</td>\n",
       "      <td>452.0</td>\n",
       "      <td>...</td>\n",
       "      <td>NaN</td>\n",
       "      <td>NaN</td>\n",
       "      <td>2.0</td>\n",
       "      <td>NaN</td>\n",
       "      <td>NaN</td>\n",
       "      <td>99.0</td>\n",
       "      <td>NaN</td>\n",
       "      <td>NaN</td>\n",
       "      <td>194.0</td>\n",
       "      <td>1372.0</td>\n",
       "    </tr>\n",
       "    <tr>\n",
       "      <th>2013-10-01</th>\n",
       "      <td>NaN</td>\n",
       "      <td>32.0</td>\n",
       "      <td>NaN</td>\n",
       "      <td>NaN</td>\n",
       "      <td>40.0</td>\n",
       "      <td>5.0</td>\n",
       "      <td>NaN</td>\n",
       "      <td>NaN</td>\n",
       "      <td>NaN</td>\n",
       "      <td>268.0</td>\n",
       "      <td>...</td>\n",
       "      <td>NaN</td>\n",
       "      <td>2.0</td>\n",
       "      <td>NaN</td>\n",
       "      <td>NaN</td>\n",
       "      <td>NaN</td>\n",
       "      <td>83.0</td>\n",
       "      <td>1.0</td>\n",
       "      <td>1.0</td>\n",
       "      <td>392.0</td>\n",
       "      <td>901.0</td>\n",
       "    </tr>\n",
       "    <tr>\n",
       "      <th>2014-10-01</th>\n",
       "      <td>NaN</td>\n",
       "      <td>19.0</td>\n",
       "      <td>NaN</td>\n",
       "      <td>NaN</td>\n",
       "      <td>NaN</td>\n",
       "      <td>2.0</td>\n",
       "      <td>NaN</td>\n",
       "      <td>NaN</td>\n",
       "      <td>NaN</td>\n",
       "      <td>60.0</td>\n",
       "      <td>...</td>\n",
       "      <td>1.0</td>\n",
       "      <td>1.0</td>\n",
       "      <td>NaN</td>\n",
       "      <td>NaN</td>\n",
       "      <td>NaN</td>\n",
       "      <td>40.0</td>\n",
       "      <td>NaN</td>\n",
       "      <td>NaN</td>\n",
       "      <td>681.0</td>\n",
       "      <td>140.0</td>\n",
       "    </tr>\n",
       "    <tr>\n",
       "      <th>2015-10-01</th>\n",
       "      <td>NaN</td>\n",
       "      <td>11.0</td>\n",
       "      <td>58.0</td>\n",
       "      <td>NaN</td>\n",
       "      <td>NaN</td>\n",
       "      <td>NaN</td>\n",
       "      <td>NaN</td>\n",
       "      <td>NaN</td>\n",
       "      <td>NaN</td>\n",
       "      <td>64.0</td>\n",
       "      <td>...</td>\n",
       "      <td>1.0</td>\n",
       "      <td>6.0</td>\n",
       "      <td>NaN</td>\n",
       "      <td>NaN</td>\n",
       "      <td>NaN</td>\n",
       "      <td>14.0</td>\n",
       "      <td>NaN</td>\n",
       "      <td>NaN</td>\n",
       "      <td>321.0</td>\n",
       "      <td>424.0</td>\n",
       "    </tr>\n",
       "    <tr>\n",
       "      <th>2016-10-01</th>\n",
       "      <td>NaN</td>\n",
       "      <td>29.0</td>\n",
       "      <td>62.0</td>\n",
       "      <td>1.0</td>\n",
       "      <td>NaN</td>\n",
       "      <td>4.0</td>\n",
       "      <td>NaN</td>\n",
       "      <td>NaN</td>\n",
       "      <td>NaN</td>\n",
       "      <td>94.0</td>\n",
       "      <td>...</td>\n",
       "      <td>NaN</td>\n",
       "      <td>32.0</td>\n",
       "      <td>1.0</td>\n",
       "      <td>NaN</td>\n",
       "      <td>NaN</td>\n",
       "      <td>NaN</td>\n",
       "      <td>NaN</td>\n",
       "      <td>NaN</td>\n",
       "      <td>972.0</td>\n",
       "      <td>100.0</td>\n",
       "    </tr>\n",
       "    <tr>\n",
       "      <th>2017-10-01</th>\n",
       "      <td>NaN</td>\n",
       "      <td>18.0</td>\n",
       "      <td>110.0</td>\n",
       "      <td>NaN</td>\n",
       "      <td>NaN</td>\n",
       "      <td>NaN</td>\n",
       "      <td>2.0</td>\n",
       "      <td>NaN</td>\n",
       "      <td>6.0</td>\n",
       "      <td>140.0</td>\n",
       "      <td>...</td>\n",
       "      <td>NaN</td>\n",
       "      <td>28.0</td>\n",
       "      <td>2.0</td>\n",
       "      <td>1.0</td>\n",
       "      <td>755.0</td>\n",
       "      <td>NaN</td>\n",
       "      <td>NaN</td>\n",
       "      <td>NaN</td>\n",
       "      <td>1001.0</td>\n",
       "      <td>57.0</td>\n",
       "    </tr>\n",
       "    <tr>\n",
       "      <th>2018-10-01</th>\n",
       "      <td>2.0</td>\n",
       "      <td>11.0</td>\n",
       "      <td>71.0</td>\n",
       "      <td>NaN</td>\n",
       "      <td>NaN</td>\n",
       "      <td>1.0</td>\n",
       "      <td>2.0</td>\n",
       "      <td>NaN</td>\n",
       "      <td>NaN</td>\n",
       "      <td>160.0</td>\n",
       "      <td>...</td>\n",
       "      <td>NaN</td>\n",
       "      <td>NaN</td>\n",
       "      <td>NaN</td>\n",
       "      <td>NaN</td>\n",
       "      <td>631.0</td>\n",
       "      <td>NaN</td>\n",
       "      <td>NaN</td>\n",
       "      <td>NaN</td>\n",
       "      <td>562.0</td>\n",
       "      <td>41.0</td>\n",
       "    </tr>\n",
       "  </tbody>\n",
       "</table>\n",
       "<p>8 rows × 41 columns</p>\n",
       "</div>"
      ],
      "text/plain": [
       "Detention Facility  ADAMS COUNTY  ANCHORAGE JAIL  BELLINGHAM BPS ERO HOLDROOM  \\\n",
       "Book In Date                                                                    \n",
       "2011-10-01                   4.0            25.0                          NaN   \n",
       "2012-10-01                   NaN            25.0                          NaN   \n",
       "2013-10-01                   NaN            32.0                          NaN   \n",
       "2014-10-01                   NaN            19.0                          NaN   \n",
       "2015-10-01                   NaN            11.0                         58.0   \n",
       "2016-10-01                   NaN            29.0                         62.0   \n",
       "2017-10-01                   NaN            18.0                        110.0   \n",
       "2018-10-01                   2.0            11.0                         71.0   \n",
       "\n",
       "Detention Facility  CHELAN CO. REGIONAL JAIL  COLUMBIA COUNTY JAIL  \\\n",
       "Book In Date                                                         \n",
       "2011-10-01                              14.0                  22.0   \n",
       "2012-10-01                               NaN                  51.0   \n",
       "2013-10-01                               NaN                  40.0   \n",
       "2014-10-01                               NaN                   NaN   \n",
       "2015-10-01                               NaN                   NaN   \n",
       "2016-10-01                               1.0                   NaN   \n",
       "2017-10-01                               NaN                   NaN   \n",
       "2018-10-01                               NaN                   NaN   \n",
       "\n",
       "Detention Facility  COOK INLET PRETRIAL, ANCH  COWLITZ CO. JUV. DET.  \\\n",
       "Book In Date                                                           \n",
       "2011-10-01                                6.0                    1.0   \n",
       "2012-10-01                                1.0                    NaN   \n",
       "2013-10-01                                5.0                    NaN   \n",
       "2014-10-01                                2.0                    NaN   \n",
       "2015-10-01                                NaN                    NaN   \n",
       "2016-10-01                                4.0                    NaN   \n",
       "2017-10-01                                NaN                    2.0   \n",
       "2018-10-01                                1.0                    2.0   \n",
       "\n",
       "Detention Facility  DOUGLAS CO. JAIL  ECONOLODGE MOTEL  EUGENE HOLDROOM  \\\n",
       "Book In Date                                                              \n",
       "2011-10-01                       1.0               NaN            376.0   \n",
       "2012-10-01                       1.0               NaN            452.0   \n",
       "2013-10-01                       NaN               NaN            268.0   \n",
       "2014-10-01                       NaN               NaN             60.0   \n",
       "2015-10-01                       NaN               NaN             64.0   \n",
       "2016-10-01                       NaN               NaN             94.0   \n",
       "2017-10-01                       NaN               6.0            140.0   \n",
       "2018-10-01                       NaN               NaN            160.0   \n",
       "\n",
       "Detention Facility        ...          SITKA CITY JAIL, SITKA AK  \\\n",
       "Book In Date              ...                                      \n",
       "2011-10-01                ...                                NaN   \n",
       "2012-10-01                ...                                NaN   \n",
       "2013-10-01                ...                                NaN   \n",
       "2014-10-01                ...                                1.0   \n",
       "2015-10-01                ...                                1.0   \n",
       "2016-10-01                ...                                NaN   \n",
       "2017-10-01                ...                                NaN   \n",
       "2018-10-01                ...                                NaN   \n",
       "\n",
       "Detention Facility  SPRINGFIELD CITY JAIL  STEVENS COUNTY JAIL  \\\n",
       "Book In Date                                                     \n",
       "2011-10-01                            NaN                  NaN   \n",
       "2012-10-01                            NaN                  2.0   \n",
       "2013-10-01                            2.0                  NaN   \n",
       "2014-10-01                            1.0                  NaN   \n",
       "2015-10-01                            6.0                  NaN   \n",
       "2016-10-01                           32.0                  1.0   \n",
       "2017-10-01                           28.0                  2.0   \n",
       "2018-10-01                            NaN                  NaN   \n",
       "\n",
       "Detention Facility  SUNNYSIDE JAIL  TACOMA ICE PROCESSING CENTER  \\\n",
       "Book In Date                                                       \n",
       "2011-10-01                     NaN                           NaN   \n",
       "2012-10-01                     NaN                           NaN   \n",
       "2013-10-01                     NaN                           NaN   \n",
       "2014-10-01                     NaN                           NaN   \n",
       "2015-10-01                     NaN                           NaN   \n",
       "2016-10-01                     NaN                           NaN   \n",
       "2017-10-01                     1.0                         755.0   \n",
       "2018-10-01                     NaN                         631.0   \n",
       "\n",
       "Detention Facility  UMATILLA CO JAIL  WILDWOOD PRE-TRIAL FAC.  \\\n",
       "Book In Date                                                    \n",
       "2011-10-01                      41.0                      2.0   \n",
       "2012-10-01                      99.0                      NaN   \n",
       "2013-10-01                      83.0                      1.0   \n",
       "2014-10-01                      40.0                      NaN   \n",
       "2015-10-01                      14.0                      NaN   \n",
       "2016-10-01                       NaN                      NaN   \n",
       "2017-10-01                       NaN                      NaN   \n",
       "2018-10-01                       NaN                      NaN   \n",
       "\n",
       "Detention Facility  WILDWOOD STATE CORR. CTR.  YAKIMA COUNTY  \\\n",
       "Book In Date                                                   \n",
       "2011-10-01                                NaN          317.0   \n",
       "2012-10-01                                NaN          194.0   \n",
       "2013-10-01                                1.0          392.0   \n",
       "2014-10-01                                NaN          681.0   \n",
       "2015-10-01                                NaN          321.0   \n",
       "2016-10-01                                NaN          972.0   \n",
       "2017-10-01                                NaN         1001.0   \n",
       "2018-10-01                                NaN          562.0   \n",
       "\n",
       "Detention Facility  YAKIMA SUB-OFFICE  \n",
       "Book In Date                           \n",
       "2011-10-01                      872.0  \n",
       "2012-10-01                     1372.0  \n",
       "2013-10-01                      901.0  \n",
       "2014-10-01                      140.0  \n",
       "2015-10-01                      424.0  \n",
       "2016-10-01                      100.0  \n",
       "2017-10-01                       57.0  \n",
       "2018-10-01                       41.0  \n",
       "\n",
       "[8 rows x 41 columns]"
      ]
     },
     "execution_count": 72,
     "metadata": {},
     "output_type": "execute_result"
    }
   ],
   "source": [
    "bookins.groupby(pd.Grouper(freq='AS-OCT'))['Detention Facility'].value_counts().unstack()"
   ]
  },
  {
   "cell_type": "code",
   "execution_count": null,
   "metadata": {},
   "outputs": [],
   "source": []
  }
 ],
 "metadata": {
  "kernelspec": {
   "display_name": "Python 3",
   "language": "python",
   "name": "python3"
  },
  "language_info": {
   "codemirror_mode": {
    "name": "ipython",
    "version": 3
   },
   "file_extension": ".py",
   "mimetype": "text/x-python",
   "name": "python",
   "nbconvert_exporter": "python",
   "pygments_lexer": "ipython3",
   "version": "3.7.1"
  }
 },
 "nbformat": 4,
 "nbformat_minor": 2
}
